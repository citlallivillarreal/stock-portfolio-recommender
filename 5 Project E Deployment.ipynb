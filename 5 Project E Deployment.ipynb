{
 "cells": [
  {
   "cell_type": "markdown",
   "metadata": {
    "hideCode": false,
    "hidePrompt": false
   },
   "source": [
    "# Project Part E: Deployment\n",
    "\n",
    "![](banner_project.jpg)"
   ]
  },
  {
   "cell_type": "code",
   "execution_count": 1,
   "metadata": {},
   "outputs": [],
   "source": [
    "analyst = \"Citlalli Villarreal\" # Replace this with your name"
   ]
  },
  {
   "cell_type": "code",
   "execution_count": 2,
   "metadata": {
    "hide_input": false
   },
   "outputs": [
    {
     "data": {
      "text/html": [
       "<p style=\"text-align:center; font-size:10px;\">\n",
       ".................................................... start of document ....................................................\n",
       "</p>"
      ]
     },
     "metadata": {},
     "output_type": "display_data"
    }
   ],
   "source": [
    "f = \"setup.R\"; for (i in 1:10) { if (file.exists(f)) break else f = paste0(\"../\", f) }; source(f)\n",
    "options(repr.matrix.max.rows=674)\n",
    "options(repr.matrix.max.cols=200)\n",
    "update_geom_defaults(\"point\", list(size=1))                                "
   ]
  },
  {
   "cell_type": "markdown",
   "metadata": {},
   "source": [
    "## Directions"
   ]
  },
  {
   "cell_type": "markdown",
   "metadata": {},
   "source": [
    "### Objective\n",
    "\n",
    "Recommend a portfolio of 12 company investments that maximizes 12-month return of an overall \\$1,000,000 investment."
   ]
  },
  {
   "cell_type": "markdown",
   "metadata": {},
   "source": [
    "### Approach\n",
    "\n",
    "Retrieve a transformed dataset about public company fundamentals and use it reproduce the construction of a selected model.\n",
    "\n",
    "Retrieve an investment opportunities dataset, comprising fundamentals for some set of public companies over some one-year period.  Transform the representation of the investment opportunities to match the representation expected by the model, leveraging previous analysis.\n",
    "\n",
    "Use the model to make predictions about the investment opportunities and accordingly recommend a portfolio of 12 company investments."
   ]
  },
  {
   "cell_type": "markdown",
   "metadata": {},
   "source": [
    "## Business Model\n",
    "\n",
    "\n",
    "The business model is ...\n",
    "\n",
    "$ \\begin{align} profit = \\left( \\sum_{i \\in portfolio} (1 + growth_i) \\times allocation_i \\right) - budget \\end{align} $\n",
    "\n",
    "<br>\n",
    "\n",
    "$ profit\\,rate = profit \\div budget $\n",
    "\n",
    "\n",
    "$ \\begin{align} budget = \\sum_{i \\in portfolio} allocation_i \\end{align} $\n",
    "\n",
    "<br>\n",
    "\n",
    "Business model parameters include ...\n",
    "\n",
    "* Budget = \\\\$1,000,000: total investment to allocate across the companies in the portfolio\n",
    "* Portfolio Size = 12: number of companies in the portfolio\n",
    "* Allocations = \\\\$1,000,000 $\\div$ 12 to each company: investments to allocate to specific companies in the portfolio \n",
    "\n",
    "Fill the portfolio with companies you predict to have the highest growths."
   ]
  },
  {
   "cell_type": "code",
   "execution_count": 3,
   "metadata": {},
   "outputs": [
    {
     "data": {
      "text/html": [
       "<table><tr><td style=\"background-color:white; vertical-align:top; padding-right:40px;\"><table>\n",
       " <thead>\n",
       "  <tr>\n",
       "   <th style=\"text-align:right;background-color: #FFFFFF !important;\"> budget </th>\n",
       "  </tr>\n",
       " </thead>\n",
       "<tbody>\n",
       "  <tr>\n",
       "   <td style=\"text-align:right;\"> 1000000 </td>\n",
       "  </tr>\n",
       "</tbody>\n",
       "</table></td><td style=\"background-color:white; vertical-align:top; padding-right:40px;\"><table>\n",
       " <thead>\n",
       "  <tr>\n",
       "   <th style=\"text-align:right;background-color: #FFFFFF !important;\"> portfolio_size </th>\n",
       "  </tr>\n",
       " </thead>\n",
       "<tbody>\n",
       "  <tr>\n",
       "   <td style=\"text-align:right;\"> 12 </td>\n",
       "  </tr>\n",
       "</tbody>\n",
       "</table></td><td style=\"background-color:white; vertical-align:top;\"><table>\n",
       " <thead>\n",
       "  <tr>\n",
       "   <th style=\"text-align:right;background-color: #FFFFFF !important;\"> allocation </th>\n",
       "  </tr>\n",
       " </thead>\n",
       "<tbody>\n",
       "  <tr>\n",
       "   <td style=\"text-align:right;\"> 83333.33 </td>\n",
       "  </tr>\n",
       "  <tr>\n",
       "   <td style=\"text-align:right;\"> 83333.33 </td>\n",
       "  </tr>\n",
       "  <tr>\n",
       "   <td style=\"text-align:right;\"> 83333.33 </td>\n",
       "  </tr>\n",
       "  <tr>\n",
       "   <td style=\"text-align:right;\"> 83333.33 </td>\n",
       "  </tr>\n",
       "  <tr>\n",
       "   <td style=\"text-align:right;\"> 83333.33 </td>\n",
       "  </tr>\n",
       "  <tr>\n",
       "   <td style=\"text-align:right;\"> 83333.33 </td>\n",
       "  </tr>\n",
       "  <tr>\n",
       "   <td style=\"text-align:right;\"> 83333.33 </td>\n",
       "  </tr>\n",
       "  <tr>\n",
       "   <td style=\"text-align:right;\"> 83333.33 </td>\n",
       "  </tr>\n",
       "  <tr>\n",
       "   <td style=\"text-align:right;\"> 83333.33 </td>\n",
       "  </tr>\n",
       "  <tr>\n",
       "   <td style=\"text-align:right;\"> 83333.33 </td>\n",
       "  </tr>\n",
       "  <tr>\n",
       "   <td style=\"text-align:right;\"> 83333.33 </td>\n",
       "  </tr>\n",
       "  <tr>\n",
       "   <td style=\"text-align:right;\"> 83333.33 </td>\n",
       "  </tr>\n",
       "</tbody>\n",
       "</table></td></tr></table>"
      ]
     },
     "metadata": {},
     "output_type": "display_data"
    }
   ],
   "source": [
    "# Set the business parameters.\n",
    "\n",
    "budget = 1000000\n",
    "portfolio_size = 12\n",
    "allocation = rep(budget/portfolio_size, portfolio_size)\n",
    "\n",
    "layout(fmt(budget), fmt(portfolio_size), fmt(allocation))"
   ]
  },
  {
   "cell_type": "markdown",
   "metadata": {},
   "source": [
    "## Build Model\n",
    "\n",
    "_<<Below the training data is retrieve from the CSV file denoted as \"My Data.csv\". Then a linear regression model is constructed to predict the growth provided a PC1, PC2, and PC. >>_"
   ]
  },
  {
   "cell_type": "code",
   "execution_count": 4,
   "metadata": {},
   "outputs": [
    {
     "data": {
      "text/html": [
       "<table>\n",
       "<thead><tr><th scope=col>gvkey</th><th scope=col>tic</th><th scope=col>conm</th><th scope=col>PC1</th><th scope=col>PC2</th><th scope=col>PC3</th><th scope=col>prccq</th><th scope=col>growth</th><th scope=col>big_growth</th></tr></thead>\n",
       "<tbody>\n",
       "\t<tr><td>1004                        </td><td>AIR                         </td><td>AAR CORP                    </td><td> 1.4097638                  </td><td> 0.2124544                  </td><td>-0.18735809                 </td><td>43.69                       </td><td> 0.0507455507               </td><td>NO                          </td></tr>\n",
       "\t<tr><td>1045                        </td><td>AAL                         </td><td>AMERICAN AIRLINES GROUP INC </td><td>-2.8093139                  </td><td> 0.2246363                  </td><td> 1.43661206                 </td><td>32.11                       </td><td>-0.3828560446               </td><td>NO                          </td></tr>\n",
       "\t<tr><td>1050                        </td><td>CECE                        </td><td>CECO ENVIRONMENTAL CORP     </td><td> 1.5247216                  </td><td> 0.4396434                  </td><td>-0.16785608                 </td><td> 6.75                       </td><td> 0.3157894737               </td><td>YES                         </td></tr>\n",
       "\t<tr><td>1062                        </td><td>ASA                         </td><td>ASA GOLD AND PRECIOUS METALS</td><td> 1.5736687                  </td><td> 0.6384403                  </td><td> 0.01227541                 </td><td> 8.66                       </td><td>-0.2164739518               </td><td>NO                          </td></tr>\n",
       "\t<tr><td>1072                        </td><td>AVX                         </td><td>AVX CORP                    </td><td> 1.2812646                  </td><td> 0.4529129                  </td><td> 0.09293832                 </td><td>15.25                       </td><td>-0.1184971098               </td><td>NO                          </td></tr>\n",
       "\t<tr><td>1075                        </td><td>PNW                         </td><td>PINNACLE WEST CAPITAL CORP  </td><td> 0.3697622                  </td><td>-0.4860613                  </td><td>-0.01283639                 </td><td>85.20                       </td><td> 0.0002347969               </td><td>NO                          </td></tr>\n",
       "</tbody>\n",
       "</table>\n"
      ],
      "text/latex": [
       "\\begin{tabular}{r|lllllllll}\n",
       " gvkey & tic & conm & PC1 & PC2 & PC3 & prccq & growth & big\\_growth\\\\\n",
       "\\hline\n",
       "\t 1004                         & AIR                          & AAR CORP                     &  1.4097638                   &  0.2124544                   & -0.18735809                  & 43.69                        &  0.0507455507                & NO                          \\\\\n",
       "\t 1045                         & AAL                          & AMERICAN AIRLINES GROUP INC  & -2.8093139                   &  0.2246363                   &  1.43661206                  & 32.11                        & -0.3828560446                & NO                          \\\\\n",
       "\t 1050                         & CECE                         & CECO ENVIRONMENTAL CORP      &  1.5247216                   &  0.4396434                   & -0.16785608                  &  6.75                        &  0.3157894737                & YES                         \\\\\n",
       "\t 1062                         & ASA                          & ASA GOLD AND PRECIOUS METALS &  1.5736687                   &  0.6384403                   &  0.01227541                  &  8.66                        & -0.2164739518                & NO                          \\\\\n",
       "\t 1072                         & AVX                          & AVX CORP                     &  1.2812646                   &  0.4529129                   &  0.09293832                  & 15.25                        & -0.1184971098                & NO                          \\\\\n",
       "\t 1075                         & PNW                          & PINNACLE WEST CAPITAL CORP   &  0.3697622                   & -0.4860613                   & -0.01283639                  & 85.20                        &  0.0002347969                & NO                          \\\\\n",
       "\\end{tabular}\n"
      ],
      "text/markdown": [
       "\n",
       "| gvkey | tic | conm | PC1 | PC2 | PC3 | prccq | growth | big_growth |\n",
       "|---|---|---|---|---|---|---|---|---|\n",
       "| 1004                         | AIR                          | AAR CORP                     |  1.4097638                   |  0.2124544                   | -0.18735809                  | 43.69                        |  0.0507455507                | NO                           |\n",
       "| 1045                         | AAL                          | AMERICAN AIRLINES GROUP INC  | -2.8093139                   |  0.2246363                   |  1.43661206                  | 32.11                        | -0.3828560446                | NO                           |\n",
       "| 1050                         | CECE                         | CECO ENVIRONMENTAL CORP      |  1.5247216                   |  0.4396434                   | -0.16785608                  |  6.75                        |  0.3157894737                | YES                          |\n",
       "| 1062                         | ASA                          | ASA GOLD AND PRECIOUS METALS |  1.5736687                   |  0.6384403                   |  0.01227541                  |  8.66                        | -0.2164739518                | NO                           |\n",
       "| 1072                         | AVX                          | AVX CORP                     |  1.2812646                   |  0.4529129                   |  0.09293832                  | 15.25                        | -0.1184971098                | NO                           |\n",
       "| 1075                         | PNW                          | PINNACLE WEST CAPITAL CORP   |  0.3697622                   | -0.4860613                   | -0.01283639                  | 85.20                        |  0.0002347969                | NO                           |\n",
       "\n"
      ],
      "text/plain": [
       "  gvkey tic  conm                         PC1        PC2        PC3        \n",
       "1 1004  AIR  AAR CORP                      1.4097638  0.2124544 -0.18735809\n",
       "2 1045  AAL  AMERICAN AIRLINES GROUP INC  -2.8093139  0.2246363  1.43661206\n",
       "3 1050  CECE CECO ENVIRONMENTAL CORP       1.5247216  0.4396434 -0.16785608\n",
       "4 1062  ASA  ASA GOLD AND PRECIOUS METALS  1.5736687  0.6384403  0.01227541\n",
       "5 1072  AVX  AVX CORP                      1.2812646  0.4529129  0.09293832\n",
       "6 1075  PNW  PINNACLE WEST CAPITAL CORP    0.3697622 -0.4860613 -0.01283639\n",
       "  prccq growth        big_growth\n",
       "1 43.69  0.0507455507 NO        \n",
       "2 32.11 -0.3828560446 NO        \n",
       "3  6.75  0.3157894737 YES       \n",
       "4  8.66 -0.2164739518 NO        \n",
       "5 15.25 -0.1184971098 NO        \n",
       "6 85.20  0.0002347969 NO        "
      ]
     },
     "metadata": {},
     "output_type": "display_data"
    }
   ],
   "source": [
    "# Retrieve \"My Data.csv\".  This is the ORIGINAL model training data.\n",
    "data = read.csv(\"My Data.csv\", header=TRUE)\n",
    "data$big_growth = factor(data$big_growth, levels=c(\"YES\",\"NO\"))\n",
    "\n",
    "# Present a few rows ...\n",
    "data[1:6,]"
   ]
  },
  {
   "cell_type": "code",
   "execution_count": 5,
   "metadata": {},
   "outputs": [
    {
     "data": {
      "text/plain": [
       "\n",
       "Call:\n",
       "lm(formula = growth ~ PC1 + PC2 + PC3, data = data)\n",
       "\n",
       "Coefficients:\n",
       "(Intercept)          PC1          PC2          PC3  \n",
       "  -0.118589     0.001091    -0.001686    -0.001792  \n"
      ]
     },
     "metadata": {},
     "output_type": "display_data"
    }
   ],
   "source": [
    "# Construct a linear regression model to predict growth given PC1, PC2 and PC3, based on the\n",
    "# ORIGINAL model training data.\n",
    "# Present a brief summary of the model parameters.\n",
    "model = lm(formula=growth ~ PC1 + PC2 + PC3, data=data)\n",
    "model"
   ]
  },
  {
   "cell_type": "markdown",
   "metadata": {},
   "source": [
    "## Investment Opportunities\n",
    "\n",
    "_<< Below the data is retrieve from the CSV file called \"Investment Opportunities.csv\". Once the data is retrieved, I partition the data by the calendar quarter. Then the different datasets representing different quarters are joined into one dataset. This new dataset is filtered and manipulated through the use of various data objects (e.g. RDS). The final resulting dataset, \"data.filter\", is used to train the model. >>_"
   ]
  },
  {
   "cell_type": "markdown",
   "metadata": {},
   "source": [
    "### Retrieve Data"
   ]
  },
  {
   "cell_type": "code",
   "execution_count": 6,
   "metadata": {},
   "outputs": [
    {
     "data": {
      "text/html": [
       "<table>\n",
       "<thead><tr><th scope=col>observations</th><th scope=col>variables</th></tr></thead>\n",
       "<tbody>\n",
       "\t<tr><td>918</td><td>680</td></tr>\n",
       "</tbody>\n",
       "</table>\n"
      ],
      "text/latex": [
       "\\begin{tabular}{r|ll}\n",
       " observations & variables\\\\\n",
       "\\hline\n",
       "\t 918 & 680\\\\\n",
       "\\end{tabular}\n"
      ],
      "text/markdown": [
       "\n",
       "| observations | variables |\n",
       "|---|---|\n",
       "| 918 | 680 |\n",
       "\n"
      ],
      "text/plain": [
       "  observations variables\n",
       "1 918          680      "
      ]
     },
     "metadata": {},
     "output_type": "display_data"
    }
   ],
   "source": [
    "# Retrieve \"Investment Opportunities.csv\"\n",
    "# Present the dataset size ...\n",
    "\n",
    "datax = read.csv(\"Investment Opportunities.csv\", header=TRUE)\n",
    "size(datax)"
   ]
  },
  {
   "cell_type": "markdown",
   "metadata": {},
   "source": [
    "### Partition Data by Calendar Quarter \n",
    "\n",
    "To partition the dataset by calendar quarter in which information is reported, first add a synthetic variable to indicate such.  Then partition into four new datasets, one for each quarter, and drop the quarter variables. Additionally, filter the observations to include only those with non-missing `prccq`.  Then remove any observations about companies that reported more than once per quarter.  Then change all the variable names (except for the `gvkey`, `tic`, and `conm` variables) by suffixing them with quarter information - e.g., in the Quarter 1 dataset, `prccq` becomes `prccq.q1`, etc."
   ]
  },
  {
   "cell_type": "code",
   "execution_count": 7,
   "metadata": {},
   "outputs": [],
   "source": [
    "# Partition the dataset as described.\n",
    "datax$quarter = quarter(mdy(datax[,2]))\n",
    "\n",
    "data.current.q1 = datax[(datax$quarter==1) & !is.na(datax$prccq), -ncol(datax)]\n",
    "data.current.q2 = datax[(datax$quarter==2) & !is.na(datax$prccq), -ncol(datax)]\n",
    "data.current.q3 = datax[(datax$quarter==3) & !is.na(datax$prccq), -ncol(datax)]\n",
    "data.current.q4 = datax[(datax$quarter==4) & !is.na(datax$prccq), -ncol(datax)]\n",
    "\n",
    "data.current.q1 = data.current.q1[!duplicated(data.current.q1$gvkey),]\n",
    "data.current.q2 = data.current.q2[!duplicated(data.current.q2$gvkey),]\n",
    "data.current.q3 = data.current.q3[!duplicated(data.current.q3$gvkey),]\n",
    "data.current.q4 = data.current.q4[!duplicated(data.current.q4$gvkey),]\n",
    "\n",
    "colnames(data.current.q1)[-c(1, 10, 12)] = paste0(colnames(data.current.q1)[-c(1, 10, 12)], \".q1\")\n",
    "colnames(data.current.q2)[-c(1, 10, 12)] = paste0(colnames(data.current.q2)[-c(1, 10, 12)], \".q2\")\n",
    "colnames(data.current.q3)[-c(1, 10, 12)] = paste0(colnames(data.current.q3)[-c(1, 10, 12)], \".q3\")\n",
    "colnames(data.current.q4)[-c(1, 10, 12)] = paste0(colnames(data.current.q4)[-c(1, 10, 12)], \".q4\")"
   ]
  },
  {
   "cell_type": "code",
   "execution_count": 8,
   "metadata": {},
   "outputs": [
    {
     "data": {
      "text/html": [
       "<table><tr><td style=\"background-color:white; vertical-align:top; padding-right:40px;\"><table>\n",
       "<caption><center><font color=\"black\"><b>size(data.current.q1)</b></font></center></caption>\n",
       " <thead>\n",
       "  <tr>\n",
       "   <th style=\"text-align:right;background-color: #FFFFFF !important;\"> observations </th>\n",
       "   <th style=\"text-align:right;background-color: #FFFFFF !important;\"> variables </th>\n",
       "  </tr>\n",
       " </thead>\n",
       "<tbody>\n",
       "  <tr>\n",
       "   <td style=\"text-align:right;\"> 209 </td>\n",
       "   <td style=\"text-align:right;\"> 680 </td>\n",
       "  </tr>\n",
       "</tbody>\n",
       "</table></td><td style=\"background-color:white; vertical-align:top; padding-right:40px;\"><table>\n",
       "<caption><center><font color=\"black\"><b>size(data.current.q2)</b></font></center></caption>\n",
       " <thead>\n",
       "  <tr>\n",
       "   <th style=\"text-align:right;background-color: #FFFFFF !important;\"> observations </th>\n",
       "   <th style=\"text-align:right;background-color: #FFFFFF !important;\"> variables </th>\n",
       "  </tr>\n",
       " </thead>\n",
       "<tbody>\n",
       "  <tr>\n",
       "   <td style=\"text-align:right;\"> 221 </td>\n",
       "   <td style=\"text-align:right;\"> 680 </td>\n",
       "  </tr>\n",
       "</tbody>\n",
       "</table></td><td style=\"background-color:white; vertical-align:top; padding-right:40px;\"><table>\n",
       "<caption><center><font color=\"black\"><b>size(data.current.q3)</b></font></center></caption>\n",
       " <thead>\n",
       "  <tr>\n",
       "   <th style=\"text-align:right;background-color: #FFFFFF !important;\"> observations </th>\n",
       "   <th style=\"text-align:right;background-color: #FFFFFF !important;\"> variables </th>\n",
       "  </tr>\n",
       " </thead>\n",
       "<tbody>\n",
       "  <tr>\n",
       "   <td style=\"text-align:right;\"> 227 </td>\n",
       "   <td style=\"text-align:right;\"> 680 </td>\n",
       "  </tr>\n",
       "</tbody>\n",
       "</table></td><td style=\"background-color:white; vertical-align:top;\"><table>\n",
       "<caption><center><font color=\"black\"><b>size(data.current.q4)</b></font></center></caption>\n",
       " <thead>\n",
       "  <tr>\n",
       "   <th style=\"text-align:right;background-color: #FFFFFF !important;\"> observations </th>\n",
       "   <th style=\"text-align:right;background-color: #FFFFFF !important;\"> variables </th>\n",
       "  </tr>\n",
       " </thead>\n",
       "<tbody>\n",
       "  <tr>\n",
       "   <td style=\"text-align:right;\"> 230 </td>\n",
       "   <td style=\"text-align:right;\"> 680 </td>\n",
       "  </tr>\n",
       "</tbody>\n",
       "</table></td></tr></table>"
      ]
     },
     "metadata": {},
     "output_type": "display_data"
    }
   ],
   "source": [
    "# Present the sizes of the data partitions\n",
    "\n",
    "layout(fmt(size(data.current.q1)),\n",
    "       fmt(size(data.current.q2)),\n",
    "       fmt(size(data.current.q3)),\n",
    "       fmt(size(data.current.q4)))"
   ]
  },
  {
   "cell_type": "markdown",
   "metadata": {},
   "source": [
    "### Consolidate Data by Company\n",
    "\n",
    "Consolidate the four quarter datasets into one dataset, with one observation per company that includes variables for all four quarters.  Remove any observations with missing `prccq.q4` values."
   ]
  },
  {
   "cell_type": "code",
   "execution_count": 9,
   "metadata": {},
   "outputs": [
    {
     "data": {
      "text/html": [
       "<table>\n",
       "<thead><tr><th scope=col>observations</th><th scope=col>variables</th></tr></thead>\n",
       "<tbody>\n",
       "\t<tr><td>230 </td><td>2711</td></tr>\n",
       "</tbody>\n",
       "</table>\n"
      ],
      "text/latex": [
       "\\begin{tabular}{r|ll}\n",
       " observations & variables\\\\\n",
       "\\hline\n",
       "\t 230  & 2711\\\\\n",
       "\\end{tabular}\n"
      ],
      "text/markdown": [
       "\n",
       "| observations | variables |\n",
       "|---|---|\n",
       "| 230  | 2711 |\n",
       "\n"
      ],
      "text/plain": [
       "  observations variables\n",
       "1 230          2711     "
      ]
     },
     "metadata": {},
     "output_type": "display_data"
    }
   ],
   "source": [
    "# Consolidate the partitions as described.\n",
    "# How many observations and variables in the resulting dataset? \n",
    "\n",
    "m12 = merge(data.current.q1, data.current.q2, by=c(\"gvkey\", \"tic\", \"conm\"), all=TRUE)\n",
    "m34 = merge(data.current.q3, data.current.q4, by=c(\"gvkey\", \"tic\", \"conm\"), all=TRUE)\n",
    "data.current = merge(m12, m34, by=c(\"gvkey\", \"tic\", \"conm\"), all=TRUE, sort=TRUE)\n",
    "\n",
    "data.current = data.current[!is.na(data.current$prccq.q4),]\n",
    "\n",
    "size(data.current)"
   ]
  },
  {
   "cell_type": "markdown",
   "metadata": {},
   "source": [
    "### Transform Representation of Data"
   ]
  },
  {
   "cell_type": "code",
   "execution_count": 10,
   "metadata": {},
   "outputs": [
    {
     "data": {
      "text/html": [
       "<table>\n",
       "<thead><tr><th scope=col>observations</th><th scope=col>variables</th></tr></thead>\n",
       "<tbody>\n",
       "\t<tr><td>230</td><td>239</td></tr>\n",
       "</tbody>\n",
       "</table>\n"
      ],
      "text/latex": [
       "\\begin{tabular}{r|ll}\n",
       " observations & variables\\\\\n",
       "\\hline\n",
       "\t 230 & 239\\\\\n",
       "\\end{tabular}\n"
      ],
      "text/markdown": [
       "\n",
       "| observations | variables |\n",
       "|---|---|\n",
       "| 230 | 239 |\n",
       "\n"
      ],
      "text/plain": [
       "  observations variables\n",
       "1 230          239      "
      ]
     },
     "metadata": {},
     "output_type": "display_data"
    }
   ],
   "source": [
    "# Filter the data to include only those variables with at least 95% non-missing values\n",
    "# in the ORIGINAL model training data.\n",
    "# How many observations and variables in the resulting dataset? \n",
    "#\n",
    "# You can use the readRDS() function. \n",
    "\n",
    "cn = readRDS(\"My Filter.rds\")\n",
    "data.current.filter=data.current[,cn]\n",
    "size(data.current.filter)"
   ]
  },
  {
   "cell_type": "code",
   "execution_count": 11,
   "metadata": {},
   "outputs": [
    {
     "data": {
      "text/html": [
       "<table>\n",
       "<thead><tr><th scope=col>observations</th><th scope=col>variables</th></tr></thead>\n",
       "<tbody>\n",
       "\t<tr><td>230</td><td>239</td></tr>\n",
       "</tbody>\n",
       "</table>\n"
      ],
      "text/latex": [
       "\\begin{tabular}{r|ll}\n",
       " observations & variables\\\\\n",
       "\\hline\n",
       "\t 230 & 239\\\\\n",
       "\\end{tabular}\n"
      ],
      "text/markdown": [
       "\n",
       "| observations | variables |\n",
       "|---|---|\n",
       "| 230 | 239 |\n",
       "\n"
      ],
      "text/plain": [
       "  observations variables\n",
       "1 230          239      "
      ]
     },
     "metadata": {},
     "output_type": "display_data"
    }
   ],
   "source": [
    "# Impute the data using the same imputation values as computed for the ORIGINAL model\n",
    "# training data. \n",
    "# How many observations and variables in the resulting dataset? \n",
    "#\n",
    "# You can use the readRDS() and put_impute() functions.\n",
    "ml = readRDS(\"My Imputation.rds\")\n",
    "data.current.imputed=put_impute(data.current.filter, ml)\n",
    "size(data.current.imputed)"
   ]
  },
  {
   "cell_type": "code",
   "execution_count": 12,
   "metadata": {},
   "outputs": [
    {
     "data": {
      "text/html": [
       "<table>\n",
       "<thead><tr><th scope=col>observations</th><th scope=col>variables</th></tr></thead>\n",
       "<tbody>\n",
       "\t<tr><td>230</td><td>151</td></tr>\n",
       "</tbody>\n",
       "</table>\n"
      ],
      "text/latex": [
       "\\begin{tabular}{r|ll}\n",
       " observations & variables\\\\\n",
       "\\hline\n",
       "\t 230 & 151\\\\\n",
       "\\end{tabular}\n"
      ],
      "text/markdown": [
       "\n",
       "| observations | variables |\n",
       "|---|---|\n",
       "| 230 | 151 |\n",
       "\n"
      ],
      "text/plain": [
       "  observations variables\n",
       "1 230          151      "
      ]
     },
     "metadata": {},
     "output_type": "display_data"
    }
   ],
   "source": [
    "# Compute principal components using the centroids and weight matrix from the analysis\n",
    "# of the ORIGINAL model training data.  Apply to only the (numeric and integer) variables\n",
    "# used in the analysis of the ORIGINAL model training data. \n",
    "# How many observations and variables in the resulting dataset? \n",
    "#\n",
    "# You can use the readRDS() and predict() functions.\n",
    "# You can use rownames(pc$rotation) to get the (numeric and integer) variables. \n",
    "\n",
    "pc = readRDS(\"My PC.rds\")\n",
    "data.pc = predict(pc, data.current.imputed)\n",
    "size(data.pc)"
   ]
  },
  {
   "cell_type": "code",
   "execution_count": 13,
   "metadata": {},
   "outputs": [
    {
     "data": {
      "text/html": [
       "<table>\n",
       "<thead><tr><th scope=col>observations</th><th scope=col>variables</th></tr></thead>\n",
       "<tbody>\n",
       "\t<tr><td>230</td><td>6  </td></tr>\n",
       "</tbody>\n",
       "</table>\n"
      ],
      "text/latex": [
       "\\begin{tabular}{r|ll}\n",
       " observations & variables\\\\\n",
       "\\hline\n",
       "\t 230 & 6  \\\\\n",
       "\\end{tabular}\n"
      ],
      "text/markdown": [
       "\n",
       "| observations | variables |\n",
       "|---|---|\n",
       "| 230 | 6   |\n",
       "\n"
      ],
      "text/plain": [
       "  observations variables\n",
       "1 230          6        "
      ]
     },
     "metadata": {},
     "output_type": "display_data"
    },
    {
     "data": {
      "text/html": [
       "<table>\n",
       "<thead><tr><th scope=col>gvkey</th><th scope=col>tic</th><th scope=col>conm</th><th scope=col>PC1</th><th scope=col>PC2</th><th scope=col>PC3</th></tr></thead>\n",
       "<tbody>\n",
       "\t<tr><td>1004                    </td><td>AIR                     </td><td>AAR CORP                </td><td> 1.4195870              </td><td> 0.05796411             </td><td>-0.2576737              </td></tr>\n",
       "\t<tr><td>1410                    </td><td>ABM                     </td><td>ABM INDUSTRIES INC      </td><td> 1.0563147              </td><td> 0.07293782             </td><td>-0.1602470              </td></tr>\n",
       "\t<tr><td>1562                    </td><td>AMSWA                   </td><td>AMERICAN SOFTWARE  -CL A</td><td> 1.6304006              </td><td> 0.32243636             </td><td>-0.1278981              </td></tr>\n",
       "\t<tr><td>1618                    </td><td>AXR                     </td><td>AMREP CORP              </td><td> 0.8877064              </td><td> 0.14517578             </td><td>-0.6410072              </td></tr>\n",
       "\t<tr><td>1632                    </td><td>ADI                     </td><td>ANALOG DEVICES          </td><td>-1.6234366              </td><td>-0.48540835             </td><td>-0.9770837              </td></tr>\n",
       "\t<tr><td>1686                    </td><td>APOG                    </td><td>APOGEE ENTERPRISES INC  </td><td> 1.4219415              </td><td>-0.15294429             </td><td>-0.3697524              </td></tr>\n",
       "</tbody>\n",
       "</table>\n"
      ],
      "text/latex": [
       "\\begin{tabular}{r|llllll}\n",
       " gvkey & tic & conm & PC1 & PC2 & PC3\\\\\n",
       "\\hline\n",
       "\t 1004                     & AIR                      & AAR CORP                 &  1.4195870               &  0.05796411              & -0.2576737              \\\\\n",
       "\t 1410                     & ABM                      & ABM INDUSTRIES INC       &  1.0563147               &  0.07293782              & -0.1602470              \\\\\n",
       "\t 1562                     & AMSWA                    & AMERICAN SOFTWARE  -CL A &  1.6304006               &  0.32243636              & -0.1278981              \\\\\n",
       "\t 1618                     & AXR                      & AMREP CORP               &  0.8877064               &  0.14517578              & -0.6410072              \\\\\n",
       "\t 1632                     & ADI                      & ANALOG DEVICES           & -1.6234366               & -0.48540835              & -0.9770837              \\\\\n",
       "\t 1686                     & APOG                     & APOGEE ENTERPRISES INC   &  1.4219415               & -0.15294429              & -0.3697524              \\\\\n",
       "\\end{tabular}\n"
      ],
      "text/markdown": [
       "\n",
       "| gvkey | tic | conm | PC1 | PC2 | PC3 |\n",
       "|---|---|---|---|---|---|\n",
       "| 1004                     | AIR                      | AAR CORP                 |  1.4195870               |  0.05796411              | -0.2576737               |\n",
       "| 1410                     | ABM                      | ABM INDUSTRIES INC       |  1.0563147               |  0.07293782              | -0.1602470               |\n",
       "| 1562                     | AMSWA                    | AMERICAN SOFTWARE  -CL A |  1.6304006               |  0.32243636              | -0.1278981               |\n",
       "| 1618                     | AXR                      | AMREP CORP               |  0.8877064               |  0.14517578              | -0.6410072               |\n",
       "| 1632                     | ADI                      | ANALOG DEVICES           | -1.6234366               | -0.48540835              | -0.9770837               |\n",
       "| 1686                     | APOG                     | APOGEE ENTERPRISES INC   |  1.4219415               | -0.15294429              | -0.3697524               |\n",
       "\n"
      ],
      "text/plain": [
       "  gvkey tic   conm                     PC1        PC2         PC3       \n",
       "1 1004  AIR   AAR CORP                  1.4195870  0.05796411 -0.2576737\n",
       "2 1410  ABM   ABM INDUSTRIES INC        1.0563147  0.07293782 -0.1602470\n",
       "3 1562  AMSWA AMERICAN SOFTWARE  -CL A  1.6304006  0.32243636 -0.1278981\n",
       "4 1618  AXR   AMREP CORP                0.8877064  0.14517578 -0.6410072\n",
       "5 1632  ADI   ANALOG DEVICES           -1.6234366 -0.48540835 -0.9770837\n",
       "6 1686  APOG  APOGEE ENTERPRISES INC    1.4219415 -0.15294429 -0.3697524"
      ]
     },
     "metadata": {},
     "output_type": "display_data"
    }
   ],
   "source": [
    "# Combine and filter datasets as necessary to produce a new datset that includes all investment\n",
    "# opportunities, but includes only predictor variables stored by previous analysis. \n",
    "# How many observations and variables?\n",
    "# Present the few few observations of the resulting dataset.\n",
    "#\n",
    "# You can use the readRDS() function.\n",
    "\n",
    "prevars = readRDS(\"My Predictors.rds\")\n",
    "data.filter = cbind(data.current.imputed, data.pc)\n",
    "data.filter = data.filter[,prevars]\n",
    "size(data.filter)\n",
    "data.filter[1:6,]\n"
   ]
  },
  {
   "cell_type": "markdown",
   "metadata": {},
   "source": [
    "## Apply Model\n",
    "\n",
    "_<< The linear regression model previously constructed above is used to predict the growths of each investment opportunity. Then a portfolio of 12 investment opportunities is presented (Note that the investment opportunities presented are in the portfolio have the highest overall predicted growth among the other investment opportunities). >>_"
   ]
  },
  {
   "cell_type": "markdown",
   "metadata": {},
   "source": [
    "### Predict & Make Portfolio Recommendation"
   ]
  },
  {
   "cell_type": "code",
   "execution_count": 14,
   "metadata": {},
   "outputs": [
    {
     "data": {
      "text/html": [
       "<table>\n",
       "<caption><center><font color=\"black\"><b>portfolio</b></font></center></caption>\n",
       " <thead>\n",
       "  <tr>\n",
       "   <th style=\"text-align:right;background-color: #FFFFFF !important;\"> gvkey </th>\n",
       "   <th style=\"text-align:right;background-color: #FFFFFF !important;\"> tic </th>\n",
       "   <th style=\"text-align:right;background-color: #FFFFFF !important;\"> conm </th>\n",
       "   <th style=\"text-align:right;background-color: #FFFFFF !important;\"> allocation </th>\n",
       "  </tr>\n",
       " </thead>\n",
       "<tbody>\n",
       "  <tr>\n",
       "   <td style=\"text-align:right;\"> 23809 </td>\n",
       "   <td style=\"text-align:right;\"> AZO </td>\n",
       "   <td style=\"text-align:right;\"> AUTOZONE INC </td>\n",
       "   <td style=\"text-align:right;\"> 83333.33 </td>\n",
       "  </tr>\n",
       "  <tr>\n",
       "   <td style=\"text-align:right;\"> 180711 </td>\n",
       "   <td style=\"text-align:right;\"> AVGO </td>\n",
       "   <td style=\"text-align:right;\"> BROADCOM INC </td>\n",
       "   <td style=\"text-align:right;\"> 83333.33 </td>\n",
       "  </tr>\n",
       "  <tr>\n",
       "   <td style=\"text-align:right;\"> 29692 </td>\n",
       "   <td style=\"text-align:right;\"> WEBC </td>\n",
       "   <td style=\"text-align:right;\"> WEBCO INDUSTRIES INC </td>\n",
       "   <td style=\"text-align:right;\"> 83333.33 </td>\n",
       "  </tr>\n",
       "  <tr>\n",
       "   <td style=\"text-align:right;\"> 3570 </td>\n",
       "   <td style=\"text-align:right;\"> CBRL </td>\n",
       "   <td style=\"text-align:right;\"> CRACKER BARREL OLD CTRY STOR </td>\n",
       "   <td style=\"text-align:right;\"> 83333.33 </td>\n",
       "  </tr>\n",
       "  <tr>\n",
       "   <td style=\"text-align:right;\"> 178704 </td>\n",
       "   <td style=\"text-align:right;\"> ULTA </td>\n",
       "   <td style=\"text-align:right;\"> ULTA BEAUTY INC </td>\n",
       "   <td style=\"text-align:right;\"> 83333.33 </td>\n",
       "  </tr>\n",
       "  <tr>\n",
       "   <td style=\"text-align:right;\"> 65430 </td>\n",
       "   <td style=\"text-align:right;\"> PLCE </td>\n",
       "   <td style=\"text-align:right;\"> CHILDRENS PLACE INC </td>\n",
       "   <td style=\"text-align:right;\"> 83333.33 </td>\n",
       "  </tr>\n",
       "  <tr>\n",
       "   <td style=\"text-align:right;\"> 63172 </td>\n",
       "   <td style=\"text-align:right;\"> FDS </td>\n",
       "   <td style=\"text-align:right;\"> FACTSET RESEARCH SYSTEMS INC </td>\n",
       "   <td style=\"text-align:right;\"> 83333.33 </td>\n",
       "  </tr>\n",
       "  <tr>\n",
       "   <td style=\"text-align:right;\"> 8551 </td>\n",
       "   <td style=\"text-align:right;\"> PVH </td>\n",
       "   <td style=\"text-align:right;\"> PVH CORP </td>\n",
       "   <td style=\"text-align:right;\"> 83333.33 </td>\n",
       "  </tr>\n",
       "  <tr>\n",
       "   <td style=\"text-align:right;\"> 1864 </td>\n",
       "   <td style=\"text-align:right;\"> REX </td>\n",
       "   <td style=\"text-align:right;\"> REX AMERICAN RESOURCES CORP </td>\n",
       "   <td style=\"text-align:right;\"> 83333.33 </td>\n",
       "  </tr>\n",
       "  <tr>\n",
       "   <td style=\"text-align:right;\"> 3504 </td>\n",
       "   <td style=\"text-align:right;\"> COO </td>\n",
       "   <td style=\"text-align:right;\"> COOPER COS INC (THE) </td>\n",
       "   <td style=\"text-align:right;\"> 83333.33 </td>\n",
       "  </tr>\n",
       "  <tr>\n",
       "   <td style=\"text-align:right;\"> 3062 </td>\n",
       "   <td style=\"text-align:right;\"> CTAS </td>\n",
       "   <td style=\"text-align:right;\"> CINTAS CORP </td>\n",
       "   <td style=\"text-align:right;\"> 83333.33 </td>\n",
       "  </tr>\n",
       "  <tr>\n",
       "   <td style=\"text-align:right;\"> 7921 </td>\n",
       "   <td style=\"text-align:right;\"> NDSN </td>\n",
       "   <td style=\"text-align:right;\"> NORDSON CORP </td>\n",
       "   <td style=\"text-align:right;\"> 83333.33 </td>\n",
       "  </tr>\n",
       "</tbody>\n",
       "</table>"
      ]
     },
     "metadata": {},
     "output_type": "display_data"
    }
   ],
   "source": [
    "# Use the model to predict growths of each investment opportunity.\n",
    "# Recommend a portfolio of allocations to 12 investment opportunities: gvkey, tic, conm, allocation\n",
    "\n",
    "outcome.predicted = predict(model, data.filter)\n",
    "new.data.filter = cbind(data.filter, outcome.predicted)\n",
    "new.data.filter = new.data.filter[order(-new.data.filter$outcome.predicted),]\n",
    "new.data.filter = new.data.filter[1:12,c('gvkey', 'tic', 'conm')]\n",
    "portfolio = cbind(new.data.filter, allocation)\n",
    "fmt(portfolio, 'portfolio')\n",
    "    "
   ]
  },
  {
   "cell_type": "markdown",
   "metadata": {},
   "source": [
    "### Store Portfolio Recommendation"
   ]
  },
  {
   "cell_type": "code",
   "execution_count": 15,
   "metadata": {},
   "outputs": [],
   "source": [
    "# Store portfolio recommendation\n",
    "\n",
    "write.csv(portfolio, paste0(analyst, \".csv\"), row.names=FALSE)"
   ]
  },
  {
   "cell_type": "markdown",
   "metadata": {},
   "source": [
    "### Confirm That Format Is Correct"
   ]
  },
  {
   "cell_type": "code",
   "execution_count": 16,
   "metadata": {},
   "outputs": [
    {
     "data": {
      "text/html": [
       "<table>\n",
       "<caption><center><font color=\"black\"><b>Portfolio Recommendation | Format Check</b></font></center></caption>\n",
       " <thead>\n",
       "  <tr>\n",
       "   <th style=\"text-align:right;background-color: #FFFFFF !important;\"> analyst </th>\n",
       "   <th style=\"text-align:right;background-color: #FFFFFF !important;\"> columns </th>\n",
       "   <th style=\"text-align:right;background-color: #FFFFFF !important;\"> companies </th>\n",
       "   <th style=\"text-align:right;background-color: #FFFFFF !important;\"> allocations </th>\n",
       "  </tr>\n",
       " </thead>\n",
       "<tbody>\n",
       "  <tr>\n",
       "   <td style=\"text-align:right;\"> Citlalli Villarreal </td>\n",
       "   <td style=\"text-align:right;\"> TRUE </td>\n",
       "   <td style=\"text-align:right;\"> TRUE </td>\n",
       "   <td style=\"text-align:right;\"> TRUE </td>\n",
       "  </tr>\n",
       "</tbody>\n",
       "</table>"
      ]
     },
     "metadata": {},
     "output_type": "display_data"
    }
   ],
   "source": [
    "portfolio.retrieved = read.csv(paste0(analyst, \".csv\"), header=TRUE)\n",
    "opportunities = unique(read.csv(\"Investment Opportunities.csv\", header=TRUE)$gvkey)\n",
    "\n",
    "columns = all(colnames(portfolio.retrieved) == c(\"gvkey\", \"tic\", \"conm\", \"allocation\"))\n",
    "companies = all(portfolio.retrieved$gvkey %in% opportunities)\n",
    "allocations = round(sum(portfolio.retrieved$allocation)) == budget\n",
    "                         \n",
    "check = data.frame(analyst, columns, companies, allocations)\n",
    "fmt(check, \"Portfolio Recommendation | Format Check\")"
   ]
  },
  {
   "cell_type": "markdown",
   "metadata": {},
   "source": [
    "<font size=1;>\n",
    "<p style=\"text-align: left;\">\n",
    "Copyright (c) Berkeley Data Analytics Group, LLC\n",
    "<span style=\"float: right;\">\n",
    "Document revised April 9, 2021\n",
    "</span>\n",
    "</p>\n",
    "</font>"
   ]
  }
 ],
 "metadata": {
  "hide_code_all_hidden": false,
  "hide_input": false,
  "kernelspec": {
   "display_name": "R",
   "language": "R",
   "name": "ir"
  },
  "language_info": {
   "codemirror_mode": "r",
   "file_extension": ".r",
   "mimetype": "text/x-r-source",
   "name": "R",
   "pygments_lexer": "r",
   "version": "3.6.3"
  },
  "toc": {
   "base_numbering": 1,
   "nav_menu": {},
   "number_sections": true,
   "sideBar": true,
   "skip_h1_title": true,
   "title_cell": "Table of Contents",
   "title_sidebar": "Contents",
   "toc_cell": false,
   "toc_position": {
    "height": "calc(100% - 180px)",
    "left": "10px",
    "top": "150px",
    "width": "165px"
   },
   "toc_section_display": true,
   "toc_window_display": true
  }
 },
 "nbformat": 4,
 "nbformat_minor": 2
}
