{
 "cells": [
  {
   "cell_type": "markdown",
   "metadata": {
    "hideCode": false,
    "hidePrompt": false
   },
   "source": [
    "# Project Part D: Regression\n",
    "\n",
    "![](banner_project.jpg)"
   ]
  },
  {
   "cell_type": "code",
   "execution_count": 1,
   "metadata": {},
   "outputs": [],
   "source": [
    "analyst = \"Citlalli Villarreal\" # Replace this with your name"
   ]
  },
  {
   "cell_type": "code",
   "execution_count": 2,
   "metadata": {
    "hide_input": false
   },
   "outputs": [
    {
     "data": {
      "text/html": [
       "<p style=\"text-align:center; font-size:10px;\">\n",
       ".................................................... start of document ....................................................\n",
       "</p>"
      ]
     },
     "metadata": {},
     "output_type": "display_data"
    }
   ],
   "source": [
    "f = \"setup.R\"; for (i in 1:10) { if (file.exists(f)) break else f = paste0(\"../\", f) }; source(f)\n",
    "options(repr.matrix.max.rows=674)\n",
    "options(repr.matrix.max.cols=200)\n",
    "update_geom_defaults(\"point\", list(size=1))                                "
   ]
  },
  {
   "cell_type": "markdown",
   "metadata": {},
   "source": [
    "## Directions"
   ]
  },
  {
   "cell_type": "markdown",
   "metadata": {},
   "source": [
    "### Objective\n",
    "\n",
    "Construct, evaluate, and tune a regressor trained on a transformed dataset about public company fundamentals.  Later, use the regressor along with additional analysis to recommend a portfolio of 12 company investments that maximizes 12-month return of an overall \\$1,000,000 investment."
   ]
  },
  {
   "cell_type": "markdown",
   "metadata": {},
   "source": [
    "### Approach\n",
    "\n",
    "Retrieve a transformed dataset.\n",
    "\n",
    "Construct a model to predict how much stock price will grow over 12 months, given 12 months of past company fundamentals data, and using a machine learning model construction method and transformed data.\n",
    "\n",
    "Evaluate the model's business performance based on a business model and business parameters.\n",
    "\n",
    "Tune the model by exhaustive search for the best performing model."
   ]
  },
  {
   "cell_type": "markdown",
   "metadata": {},
   "source": [
    "## Business Model\n",
    "\n",
    "The business model is ...\n",
    "\n",
    "$ \\begin{align} profit = \\left( \\sum_{i \\in portfolio} (1 + growth_i) \\times allocation_i \\right) - budget \\end{align} $\n",
    "\n",
    "<br>\n",
    "\n",
    "$ profit\\,rate = profit \\div budget $\n",
    "\n",
    "\n",
    "$ \\begin{align} budget = \\sum_{i \\in portfolio} allocation_i \\end{align} $\n",
    "\n",
    "<br>\n",
    "\n",
    "Business model parameters include ...\n",
    "\n",
    "* Budget = \\\\$1,000,000: total investment to allocate across the companies in the portfolio\n",
    "* Portfolio Size = 12: number of companies in the portfolio\n",
    "* Allocations = \\\\$1,000,000 $\\div$ 12 to each company: investments to allocate to specific companies in the portfolio \n",
    "\n",
    "Fill the portfolio with companies you predict to have the highest growths."
   ]
  },
  {
   "cell_type": "code",
   "execution_count": 3,
   "metadata": {},
   "outputs": [
    {
     "data": {
      "text/html": [
       "<table><tr><td style=\"background-color:white; vertical-align:top; padding-right:40px;\"><table>\n",
       " <thead>\n",
       "  <tr>\n",
       "   <th style=\"text-align:right;background-color: #FFFFFF !important;\"> budget </th>\n",
       "  </tr>\n",
       " </thead>\n",
       "<tbody>\n",
       "  <tr>\n",
       "   <td style=\"text-align:right;\"> 1000000 </td>\n",
       "  </tr>\n",
       "</tbody>\n",
       "</table></td><td style=\"background-color:white; vertical-align:top; padding-right:40px;\"><table>\n",
       " <thead>\n",
       "  <tr>\n",
       "   <th style=\"text-align:right;background-color: #FFFFFF !important;\"> portfolio_size </th>\n",
       "  </tr>\n",
       " </thead>\n",
       "<tbody>\n",
       "  <tr>\n",
       "   <td style=\"text-align:right;\"> 12 </td>\n",
       "  </tr>\n",
       "</tbody>\n",
       "</table></td><td style=\"background-color:white; vertical-align:top;\"><table>\n",
       " <thead>\n",
       "  <tr>\n",
       "   <th style=\"text-align:right;background-color: #FFFFFF !important;\"> allocation </th>\n",
       "  </tr>\n",
       " </thead>\n",
       "<tbody>\n",
       "  <tr>\n",
       "   <td style=\"text-align:right;\"> 83333.33 </td>\n",
       "  </tr>\n",
       "  <tr>\n",
       "   <td style=\"text-align:right;\"> 83333.33 </td>\n",
       "  </tr>\n",
       "  <tr>\n",
       "   <td style=\"text-align:right;\"> 83333.33 </td>\n",
       "  </tr>\n",
       "  <tr>\n",
       "   <td style=\"text-align:right;\"> 83333.33 </td>\n",
       "  </tr>\n",
       "  <tr>\n",
       "   <td style=\"text-align:right;\"> 83333.33 </td>\n",
       "  </tr>\n",
       "  <tr>\n",
       "   <td style=\"text-align:right;\"> 83333.33 </td>\n",
       "  </tr>\n",
       "  <tr>\n",
       "   <td style=\"text-align:right;\"> 83333.33 </td>\n",
       "  </tr>\n",
       "  <tr>\n",
       "   <td style=\"text-align:right;\"> 83333.33 </td>\n",
       "  </tr>\n",
       "  <tr>\n",
       "   <td style=\"text-align:right;\"> 83333.33 </td>\n",
       "  </tr>\n",
       "  <tr>\n",
       "   <td style=\"text-align:right;\"> 83333.33 </td>\n",
       "  </tr>\n",
       "  <tr>\n",
       "   <td style=\"text-align:right;\"> 83333.33 </td>\n",
       "  </tr>\n",
       "  <tr>\n",
       "   <td style=\"text-align:right;\"> 83333.33 </td>\n",
       "  </tr>\n",
       "</tbody>\n",
       "</table></td></tr></table>"
      ]
     },
     "metadata": {},
     "output_type": "display_data"
    }
   ],
   "source": [
    "# Set the business parameters.\n",
    "\n",
    "budget = 1000000\n",
    "portfolio_size = 12\n",
    "allocation = rep(budget/portfolio_size, portfolio_size)\n",
    "\n",
    "layout(fmt(budget), fmt(portfolio_size), fmt(allocation))"
   ]
  },
  {
   "cell_type": "markdown",
   "metadata": {},
   "source": [
    "## Data\n",
    "\n",
    "_<< Data was recieved from a CSV file called My Data. >>_"
   ]
  },
  {
   "cell_type": "code",
   "execution_count": 4,
   "metadata": {},
   "outputs": [
    {
     "data": {
      "text/html": [
       "<table>\n",
       "<thead><tr><th scope=col>gvkey</th><th scope=col>tic</th><th scope=col>conm</th><th scope=col>PC1</th><th scope=col>PC2</th><th scope=col>PC3</th><th scope=col>prccq</th><th scope=col>growth</th><th scope=col>big_growth</th></tr></thead>\n",
       "<tbody>\n",
       "\t<tr><td>1004                        </td><td>AIR                         </td><td>AAR CORP                    </td><td> 1.4097638                  </td><td> 0.2124544                  </td><td>-0.18735809                 </td><td>43.69                       </td><td> 0.0507455507               </td><td>NO                          </td></tr>\n",
       "\t<tr><td>1045                        </td><td>AAL                         </td><td>AMERICAN AIRLINES GROUP INC </td><td>-2.8093139                  </td><td> 0.2246363                  </td><td> 1.43661206                 </td><td>32.11                       </td><td>-0.3828560446               </td><td>NO                          </td></tr>\n",
       "\t<tr><td>1050                        </td><td>CECE                        </td><td>CECO ENVIRONMENTAL CORP     </td><td> 1.5247216                  </td><td> 0.4396434                  </td><td>-0.16785608                 </td><td> 6.75                       </td><td> 0.3157894737               </td><td>YES                         </td></tr>\n",
       "\t<tr><td>1062                        </td><td>ASA                         </td><td>ASA GOLD AND PRECIOUS METALS</td><td> 1.5736687                  </td><td> 0.6384403                  </td><td> 0.01227541                 </td><td> 8.66                       </td><td>-0.2164739518               </td><td>NO                          </td></tr>\n",
       "\t<tr><td>1072                        </td><td>AVX                         </td><td>AVX CORP                    </td><td> 1.2812646                  </td><td> 0.4529129                  </td><td> 0.09293832                 </td><td>15.25                       </td><td>-0.1184971098               </td><td>NO                          </td></tr>\n",
       "\t<tr><td>1075                        </td><td>PNW                         </td><td>PINNACLE WEST CAPITAL CORP  </td><td> 0.3697622                  </td><td>-0.4860613                  </td><td>-0.01283639                 </td><td>85.20                       </td><td> 0.0002347969               </td><td>NO                          </td></tr>\n",
       "</tbody>\n",
       "</table>\n"
      ],
      "text/latex": [
       "\\begin{tabular}{r|lllllllll}\n",
       " gvkey & tic & conm & PC1 & PC2 & PC3 & prccq & growth & big\\_growth\\\\\n",
       "\\hline\n",
       "\t 1004                         & AIR                          & AAR CORP                     &  1.4097638                   &  0.2124544                   & -0.18735809                  & 43.69                        &  0.0507455507                & NO                          \\\\\n",
       "\t 1045                         & AAL                          & AMERICAN AIRLINES GROUP INC  & -2.8093139                   &  0.2246363                   &  1.43661206                  & 32.11                        & -0.3828560446                & NO                          \\\\\n",
       "\t 1050                         & CECE                         & CECO ENVIRONMENTAL CORP      &  1.5247216                   &  0.4396434                   & -0.16785608                  &  6.75                        &  0.3157894737                & YES                         \\\\\n",
       "\t 1062                         & ASA                          & ASA GOLD AND PRECIOUS METALS &  1.5736687                   &  0.6384403                   &  0.01227541                  &  8.66                        & -0.2164739518                & NO                          \\\\\n",
       "\t 1072                         & AVX                          & AVX CORP                     &  1.2812646                   &  0.4529129                   &  0.09293832                  & 15.25                        & -0.1184971098                & NO                          \\\\\n",
       "\t 1075                         & PNW                          & PINNACLE WEST CAPITAL CORP   &  0.3697622                   & -0.4860613                   & -0.01283639                  & 85.20                        &  0.0002347969                & NO                          \\\\\n",
       "\\end{tabular}\n"
      ],
      "text/markdown": [
       "\n",
       "| gvkey | tic | conm | PC1 | PC2 | PC3 | prccq | growth | big_growth |\n",
       "|---|---|---|---|---|---|---|---|---|\n",
       "| 1004                         | AIR                          | AAR CORP                     |  1.4097638                   |  0.2124544                   | -0.18735809                  | 43.69                        |  0.0507455507                | NO                           |\n",
       "| 1045                         | AAL                          | AMERICAN AIRLINES GROUP INC  | -2.8093139                   |  0.2246363                   |  1.43661206                  | 32.11                        | -0.3828560446                | NO                           |\n",
       "| 1050                         | CECE                         | CECO ENVIRONMENTAL CORP      |  1.5247216                   |  0.4396434                   | -0.16785608                  |  6.75                        |  0.3157894737                | YES                          |\n",
       "| 1062                         | ASA                          | ASA GOLD AND PRECIOUS METALS |  1.5736687                   |  0.6384403                   |  0.01227541                  |  8.66                        | -0.2164739518                | NO                           |\n",
       "| 1072                         | AVX                          | AVX CORP                     |  1.2812646                   |  0.4529129                   |  0.09293832                  | 15.25                        | -0.1184971098                | NO                           |\n",
       "| 1075                         | PNW                          | PINNACLE WEST CAPITAL CORP   |  0.3697622                   | -0.4860613                   | -0.01283639                  | 85.20                        |  0.0002347969                | NO                           |\n",
       "\n"
      ],
      "text/plain": [
       "  gvkey tic  conm                         PC1        PC2        PC3        \n",
       "1 1004  AIR  AAR CORP                      1.4097638  0.2124544 -0.18735809\n",
       "2 1045  AAL  AMERICAN AIRLINES GROUP INC  -2.8093139  0.2246363  1.43661206\n",
       "3 1050  CECE CECO ENVIRONMENTAL CORP       1.5247216  0.4396434 -0.16785608\n",
       "4 1062  ASA  ASA GOLD AND PRECIOUS METALS  1.5736687  0.6384403  0.01227541\n",
       "5 1072  AVX  AVX CORP                      1.2812646  0.4529129  0.09293832\n",
       "6 1075  PNW  PINNACLE WEST CAPITAL CORP    0.3697622 -0.4860613 -0.01283639\n",
       "  prccq growth        big_growth\n",
       "1 43.69  0.0507455507 NO        \n",
       "2 32.11 -0.3828560446 NO        \n",
       "3  6.75  0.3157894737 YES       \n",
       "4  8.66 -0.2164739518 NO        \n",
       "5 15.25 -0.1184971098 NO        \n",
       "6 85.20  0.0002347969 NO        "
      ]
     },
     "metadata": {},
     "output_type": "display_data"
    }
   ],
   "source": [
    "# Retrieve \"My Data.csv\"\n",
    "data = read.csv(\"My Data.csv\", header=TRUE)\n",
    "data$big_growth = factor(data$big_growth, levels=c(\"YES\",\"NO\"))\n",
    "\n",
    "# Present a few rows ...\n",
    "data[1:6,]"
   ]
  },
  {
   "cell_type": "markdown",
   "metadata": {},
   "source": [
    "## Build Regression Model\n",
    "\n",
    "_<< Below is a construction of a linear regression model which predicts the growth provided the PC1, PC2, and PC3. >>_"
   ]
  },
  {
   "cell_type": "code",
   "execution_count": 5,
   "metadata": {},
   "outputs": [
    {
     "data": {
      "text/plain": [
       "\n",
       "Call:\n",
       "lm(formula = growth ~ PC1 + PC2 + PC3, data = data)\n",
       "\n",
       "Coefficients:\n",
       "(Intercept)          PC1          PC2          PC3  \n",
       "  -0.118589     0.001091    -0.001686    -0.001792  \n"
      ]
     },
     "metadata": {},
     "output_type": "display_data"
    }
   ],
   "source": [
    "# Construct a linear regression model to predict growth given PC1, PC2, and PC3.\n",
    "# Present a brief summary of the model parameters.\n",
    "model = lm(formula = growth ~ PC1 + PC2 + PC3, data = data)\n",
    "model"
   ]
  },
  {
   "cell_type": "markdown",
   "metadata": {},
   "source": [
    "## Evaluate Regression Model (5-fold cross-validation)\n",
    "\n",
    "_<< Below the data is partition using the 5-fold cross validation and then for each fold the RMSE and profit is calculated. Lastly, the cross-validation RMSE and profit is calculated by taking the average of all RMSE and profit for each individual fold respectively.  >>_"
   ]
  },
  {
   "cell_type": "code",
   "execution_count": 6,
   "metadata": {},
   "outputs": [
    {
     "name": "stdout",
     "output_type": "stream",
     "text": [
      "List of 5\n",
      " $ Fold1: int [1:862] 8 11 16 22 30 32 38 40 41 44 ...\n",
      " $ Fold2: int [1:860] 3 9 10 23 26 27 34 39 52 64 ...\n",
      " $ Fold3: int [1:862] 2 7 19 29 35 42 53 57 61 62 ...\n",
      " $ Fold4: int [1:861] 1 4 5 6 15 17 28 33 36 43 ...\n",
      " $ Fold5: int [1:860] 12 13 14 18 20 21 24 25 31 37 ...\n"
     ]
    }
   ],
   "source": [
    "# Partition the data into 5 folds (use set.seed(0) and createFolds(...) based on growth).\n",
    "# Present the first few observation (row) numbers for each of the folds.\n",
    "#\n",
    "# You can use the str() function.\n",
    "\n",
    "set.seed(0)\n",
    "fold = createFolds(data$growth, k=5, list=TRUE)\n",
    "str(fold)"
   ]
  },
  {
   "cell_type": "code",
   "execution_count": 7,
   "metadata": {},
   "outputs": [
    {
     "data": {
      "text/html": [
       "<table>\n",
       "<thead><tr><th scope=col>fold</th><th scope=col>rmse</th><th scope=col>profit</th></tr></thead>\n",
       "<tbody>\n",
       "\t<tr><td>1         </td><td>0.4444572 </td><td>-112168.03</td></tr>\n",
       "\t<tr><td>2         </td><td>0.4358929 </td><td>-159109.52</td></tr>\n",
       "\t<tr><td>3         </td><td>0.5040095 </td><td> -68570.91</td></tr>\n",
       "\t<tr><td>4         </td><td>0.3991218 </td><td> -81948.94</td></tr>\n",
       "\t<tr><td>5         </td><td>0.5459158 </td><td> -14433.04</td></tr>\n",
       "</tbody>\n",
       "</table>\n"
      ],
      "text/latex": [
       "\\begin{tabular}{r|lll}\n",
       " fold & rmse & profit\\\\\n",
       "\\hline\n",
       "\t 1          & 0.4444572  & -112168.03\\\\\n",
       "\t 2          & 0.4358929  & -159109.52\\\\\n",
       "\t 3          & 0.5040095  &  -68570.91\\\\\n",
       "\t 4          & 0.3991218  &  -81948.94\\\\\n",
       "\t 5          & 0.5459158  &  -14433.04\\\\\n",
       "\\end{tabular}\n"
      ],
      "text/markdown": [
       "\n",
       "| fold | rmse | profit |\n",
       "|---|---|---|\n",
       "| 1          | 0.4444572  | -112168.03 |\n",
       "| 2          | 0.4358929  | -159109.52 |\n",
       "| 3          | 0.5040095  |  -68570.91 |\n",
       "| 4          | 0.3991218  |  -81948.94 |\n",
       "| 5          | 0.5459158  |  -14433.04 |\n",
       "\n"
      ],
      "text/plain": [
       "  fold rmse      profit    \n",
       "1 1    0.4444572 -112168.03\n",
       "2 2    0.4358929 -159109.52\n",
       "3 3    0.5040095  -68570.91\n",
       "4 4    0.3991218  -81948.94\n",
       "5 5    0.5459158  -14433.04"
      ]
     },
     "metadata": {},
     "output_type": "display_data"
    }
   ],
   "source": [
    "# Present the model's estimated RMSE and profit for each fold.\n",
    "RMSE <- function(actual, predicted) { sqrt(mean((actual - predicted)^2)) }\n",
    "profit <- function(dataset) {sum((1+dataset$growth) * allocation) - budget}\n",
    "\n",
    "rmse_profit <- function(train, test) {\n",
    "        \n",
    "    model = lm(formula = growth ~ PC1 + PC2 + PC3, data = train)\n",
    "    outcome.predicted=predict(model, test)\n",
    "    new.test = cbind(outcome.predicted, test)\n",
    "    new.test= new.test[order(-new.test$outcome.predicted),]\n",
    "    rmse = RMSE(test$growth, outcome.predicted)\n",
    "    prof = profit(new.test[1:12,])\n",
    "    return (c(rmse, prof))\n",
    "}\n",
    "\n",
    "data.train.1 = data[setdiff(1:nrow(data), fold$Fold1),]\n",
    "data.train.2 = data[setdiff(1:nrow(data), fold$Fold2),]\n",
    "data.train.3 = data[setdiff(1:nrow(data), fold$Fold3),]\n",
    "data.train.4 = data[setdiff(1:nrow(data), fold$Fold4),]\n",
    "data.train.5 = data[setdiff(1:nrow(data), fold$Fold5),]\n",
    "\n",
    "data.test.1 = data[fold$Fold1,]\n",
    "data.test.2 = data[fold$Fold2,]\n",
    "data.test.3 = data[fold$Fold3,]\n",
    "data.test.4 = data[fold$Fold4,]\n",
    "data.test.5 = data[fold$Fold5,]\n",
    "\n",
    "rmse_profit1 = rmse_profit(data.train.1, data.test.1)\n",
    "rmse_profit2 = rmse_profit(data.train.2, data.test.2)\n",
    "rmse_profit3 = rmse_profit(data.train.3, data.test.3)\n",
    "rmse_profit4 = rmse_profit(data.train.4, data.test.4)\n",
    "rmse_profit5 = rmse_profit(data.train.5, data.test.5)\n",
    "\n",
    "\n",
    "data.frame(fold=c(1, 2, 3, 4, 5), rmse=c(rmse_profit1[1], rmse_profit2[1], rmse_profit3[1], rmse_profit4[1], rmse_profit5[1]), \n",
    "           profit=c(rmse_profit1[2], rmse_profit2[2], rmse_profit3[2], rmse_profit4[2], rmse_profit5[2]))\n",
    "\n"
   ]
  },
  {
   "cell_type": "code",
   "execution_count": 8,
   "metadata": {},
   "outputs": [
    {
     "data": {
      "text/html": [
       "<table>\n",
       "<caption><center><font color=\"black\"><b>5-Fold Cross-Validation Estimated Performance</b></font></center></caption>\n",
       " <thead>\n",
       "  <tr>\n",
       "   <th style=\"text-align:right;background-color: #FFFFFF !important;\"> rmse.cv </th>\n",
       "   <th style=\"text-align:right;background-color: #FFFFFF !important;\"> profit.cv </th>\n",
       "   <th style=\"text-align:right;background-color: #FFFFFF !important;\"> profit_rate.cv </th>\n",
       "  </tr>\n",
       " </thead>\n",
       "<tbody>\n",
       "  <tr>\n",
       "   <td style=\"text-align:right;\"> 0.4658794 </td>\n",
       "   <td style=\"text-align:right;\"> -87246.09 </td>\n",
       "   <td style=\"text-align:right;\"> -0.0872461 </td>\n",
       "  </tr>\n",
       "</tbody>\n",
       "</table>"
      ]
     },
     "metadata": {},
     "output_type": "display_data"
    }
   ],
   "source": [
    "# Present the model's 5-fold cross-validation estimated RMSE, profit, and profit rate.\n",
    "rmse.cv = sum(rmse_profit1[1], rmse_profit2[1], rmse_profit3[1], rmse_profit4[1], rmse_profit5[1])/5\n",
    "profit.cv =  sum(rmse_profit1[2], rmse_profit2[2], rmse_profit3[2], rmse_profit4[2], rmse_profit5[2])/5\n",
    "profit_rate.cv = sum(c(rmse_profit1[2], rmse_profit2[2], rmse_profit3[2], rmse_profit4[2], rmse_profit5[2])/budget)/5\n",
    "fmt(data.frame(rmse.cv, profit.cv, profit_rate.cv), \"5-Fold Cross-Validation Estimated Performance\")"
   ]
  },
  {
   "cell_type": "markdown",
   "metadata": {},
   "source": [
    "## Tune Regression Model\n",
    "\n",
    "_<< Below I partition the data into 5 folds then for each fold I construct various models as I iterate over unique combinations of the predictor variables (PC1, PC2, PC3). I then estimate each model's cross-validation RMSE and profit. Lastly, the best model is chosen via selecting the model with the highest profit (or lowest negative profit). >>_"
   ]
  },
  {
   "cell_type": "code",
   "execution_count": 9,
   "metadata": {},
   "outputs": [
    {
     "data": {
      "text/html": [
       "<table>\n",
       "<caption><center><font color=\"black\"><b>best model</b></font></center></caption>\n",
       " <thead>\n",
       "  <tr>\n",
       "   <th style=\"text-align:right;background-color: #FFFFFF !important;\"> method </th>\n",
       "   <th style=\"text-align:right;background-color: #FFFFFF !important;\"> variables </th>\n",
       "   <th style=\"text-align:right;background-color: #FFFFFF !important;\"> rmse.cv </th>\n",
       "   <th style=\"text-align:right;background-color: #FFFFFF !important;\"> profit.cv </th>\n",
       "   <th style=\"text-align:right;background-color: #FFFFFF !important;\"> profit_rate.cv </th>\n",
       "  </tr>\n",
       " </thead>\n",
       "<tbody>\n",
       "  <tr>\n",
       "   <td style=\"text-align:right;\"> linear regression </td>\n",
       "   <td style=\"text-align:right;\"> PC1 , PC2 , growth </td>\n",
       "   <td style=\"text-align:right;\"> 0.465881 </td>\n",
       "   <td style=\"text-align:right;\"> -51469.51 </td>\n",
       "   <td style=\"text-align:right;\"> -0.0514695 </td>\n",
       "  </tr>\n",
       "</tbody>\n",
       "</table>"
      ]
     },
     "metadata": {},
     "output_type": "display_data"
    },
    {
     "data": {
      "text/html": [
       "<table>\n",
       "<caption><center><font color=\"black\"><b>search for best model</b></font></center></caption>\n",
       " <thead>\n",
       "  <tr>\n",
       "   <th style=\"text-align:right;background-color: #FFFFFF !important;\"> method </th>\n",
       "   <th style=\"text-align:right;background-color: #FFFFFF !important;\"> variables </th>\n",
       "   <th style=\"text-align:right;background-color: #FFFFFF !important;\"> rmse.cv </th>\n",
       "   <th style=\"text-align:right;background-color: #FFFFFF !important;\"> profit.cv </th>\n",
       "   <th style=\"text-align:right;background-color: #FFFFFF !important;\"> profit_rate.cv </th>\n",
       "  </tr>\n",
       " </thead>\n",
       "<tbody>\n",
       "  <tr>\n",
       "   <td style=\"text-align:right;\"> linear regression </td>\n",
       "   <td style=\"text-align:right;\"> PC1 , growth </td>\n",
       "   <td style=\"text-align:right;\"> 0.4659377 </td>\n",
       "   <td style=\"text-align:right;\"> -288146.13 </td>\n",
       "   <td style=\"text-align:right;\"> -0.2881461 </td>\n",
       "  </tr>\n",
       "  <tr>\n",
       "   <td style=\"text-align:right;\"> linear regression </td>\n",
       "   <td style=\"text-align:right;\"> PC2 , growth </td>\n",
       "   <td style=\"text-align:right;\"> 0.4659040 </td>\n",
       "   <td style=\"text-align:right;\"> -70483.33 </td>\n",
       "   <td style=\"text-align:right;\"> -0.0704833 </td>\n",
       "  </tr>\n",
       "  <tr>\n",
       "   <td style=\"text-align:right;\"> linear regression </td>\n",
       "   <td style=\"text-align:right;\"> PC3 , growth </td>\n",
       "   <td style=\"text-align:right;\"> 0.4659627 </td>\n",
       "   <td style=\"text-align:right;\"> -111427.63 </td>\n",
       "   <td style=\"text-align:right;\"> -0.1114276 </td>\n",
       "  </tr>\n",
       "  <tr>\n",
       "   <td style=\"text-align:right;\"> linear regression </td>\n",
       "   <td style=\"text-align:right;\"> PC1 , PC2 , growth </td>\n",
       "   <td style=\"text-align:right;\"> 0.4658810 </td>\n",
       "   <td style=\"text-align:right;\"> -51469.51 </td>\n",
       "   <td style=\"text-align:right;\"> -0.0514695 </td>\n",
       "  </tr>\n",
       "  <tr>\n",
       "   <td style=\"text-align:right;\"> linear regression </td>\n",
       "   <td style=\"text-align:right;\"> PC1 , PC3 , growth </td>\n",
       "   <td style=\"text-align:right;\"> 0.4659351 </td>\n",
       "   <td style=\"text-align:right;\"> -75214.42 </td>\n",
       "   <td style=\"text-align:right;\"> -0.0752144 </td>\n",
       "  </tr>\n",
       "  <tr>\n",
       "   <td style=\"text-align:right;\"> linear regression </td>\n",
       "   <td style=\"text-align:right;\"> PC2 , PC3 , growth </td>\n",
       "   <td style=\"text-align:right;\"> 0.4659102 </td>\n",
       "   <td style=\"text-align:right;\"> -93628.28 </td>\n",
       "   <td style=\"text-align:right;\"> -0.0936283 </td>\n",
       "  </tr>\n",
       "  <tr>\n",
       "   <td style=\"text-align:right;\"> linear regression </td>\n",
       "   <td style=\"text-align:right;\"> PC1 , PC2 , PC3 , growth </td>\n",
       "   <td style=\"text-align:right;\"> 0.4658794 </td>\n",
       "   <td style=\"text-align:right;\"> -87246.09 </td>\n",
       "   <td style=\"text-align:right;\"> -0.0872461 </td>\n",
       "  </tr>\n",
       "</tbody>\n",
       "</table>"
      ]
     },
     "metadata": {},
     "output_type": "display_data"
    }
   ],
   "source": [
    "# Partition the data into 5 folds (use set.seed(0) and createFolds(...) based on growth).\n",
    "\n",
    "# Construct several linear regression models to predict growth.\n",
    "# Iterate through unique combinations of predictor variables, selected from PC1, PC2, PC3.\n",
    "\n",
    "# Estimate each model's RMSE and profit, using 5-fold cross validation.\n",
    "\n",
    "# Present the best model: selected variables, RMSE, profit, and profit rate.\n",
    "# Present all the models: selected variables, RMSE, profit, and profit rate.\n",
    "\n",
    "rmse_profit_modified <- function(train, test, mvar) {\n",
    "    model = lm(as.formula(paste(\"growth ~ \", mvar)), data = train)\n",
    "    outcome.predicted=predict(model, test)\n",
    "    new.test = cbind(outcome.predicted, test)\n",
    "    new.test= new.test[order(-new.test$outcome.predicted),]\n",
    "    rmse = RMSE(test$growth, outcome.predicted)\n",
    "    prof = profit(new.test[1:12,])\n",
    "    return (c(rmse, prof))\n",
    "}\n",
    "\n",
    "set.seed(0)\n",
    "fold = createFolds(data$growth, k=5, list=TRUE)\n",
    "data.train.1 = data[setdiff(1:nrow(data), fold$Fold1),]\n",
    "data.train.2 = data[setdiff(1:nrow(data), fold$Fold2),]\n",
    "data.train.3 = data[setdiff(1:nrow(data), fold$Fold3),]\n",
    "data.train.4 = data[setdiff(1:nrow(data), fold$Fold4),]\n",
    "data.train.5 = data[setdiff(1:nrow(data), fold$Fold5),]\n",
    "\n",
    "data.test.1 = data[fold$Fold1,]\n",
    "data.test.2 = data[fold$Fold2,]\n",
    "data.test.3 = data[fold$Fold3,]\n",
    "data.test.4 = data[fold$Fold4,]\n",
    "data.test.5 = data[fold$Fold5,]\n",
    "\n",
    "search_for_best_model = data.frame()\n",
    "unique_comb = list(\"PC1\", \"PC2\", \"PC3\", c(\"PC1 + PC2\"), c(\"PC1 + PC3\"), c(\"PC2 + PC3\"), c(\"PC1 + PC2 + PC3\"))\n",
    "for (var in unique_comb) {\n",
    "    rmse_profit1 = rmse_profit_modified(data.train.1, data.test.1, var)\n",
    "    rmse_profit2 = rmse_profit_modified(data.train.2, data.test.2, var)\n",
    "    rmse_profit3 = rmse_profit_modified(data.train.3, data.test.3, var)\n",
    "    rmse_profit4 = rmse_profit_modified(data.train.4, data.test.4, var)\n",
    "    rmse_profit5 = rmse_profit_modified(data.train.5, data.test.5, var)\n",
    "    rmse.cv = sum(rmse_profit1[1], rmse_profit2[1], rmse_profit3[1], rmse_profit4[1], rmse_profit5[1])/5\n",
    "    profit.cv =  sum(rmse_profit1[2], rmse_profit2[2], rmse_profit3[2], rmse_profit4[2], rmse_profit5[2])/5\n",
    "    profit_rate.cv = sum(c(rmse_profit1[2], rmse_profit2[2], rmse_profit3[2], rmse_profit4[2], rmse_profit5[2])/budget)/5\n",
    "    search_for_best_model=rbind(search_for_best_model,data.frame(method= \"linear regression\", variables=paste(gsub(\"[+]\", \",\", var), \", growth\"), rmse.cv, profit.cv, profit_rate.cv))\n",
    "  \n",
    "    }\n",
    "\n",
    "fmt(search_for_best_model[order(-search_for_best_model$profit.cv),][1,], \"best model\")\n",
    "fmt(search_for_best_model, \"search for best model\")\n",
    "\n",
    "\n",
    "\n"
   ]
  },
  {
   "cell_type": "markdown",
   "metadata": {},
   "source": [
    "<font size=1;>\n",
    "<p style=\"text-align: left;\">\n",
    "Copyright (c) Berkeley Data Analytics Group, LLC\n",
    "<span style=\"float: right;\">\n",
    "Document revised April 9, 2021\n",
    "</span>\n",
    "</p>\n",
    "</font>"
   ]
  }
 ],
 "metadata": {
  "hide_code_all_hidden": false,
  "hide_input": false,
  "kernelspec": {
   "display_name": "R",
   "language": "R",
   "name": "ir"
  },
  "language_info": {
   "codemirror_mode": "r",
   "file_extension": ".r",
   "mimetype": "text/x-r-source",
   "name": "R",
   "pygments_lexer": "r",
   "version": "3.6.3"
  },
  "toc": {
   "base_numbering": 1,
   "nav_menu": {},
   "number_sections": true,
   "sideBar": true,
   "skip_h1_title": true,
   "title_cell": "Table of Contents",
   "title_sidebar": "Contents",
   "toc_cell": false,
   "toc_position": {
    "height": "calc(100% - 180px)",
    "left": "10px",
    "top": "150px",
    "width": "165px"
   },
   "toc_section_display": true,
   "toc_window_display": true
  }
 },
 "nbformat": 4,
 "nbformat_minor": 2
}
