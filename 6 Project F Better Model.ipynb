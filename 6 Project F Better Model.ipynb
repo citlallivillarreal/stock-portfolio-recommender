{
 "cells": [
  {
   "cell_type": "markdown",
   "metadata": {
    "hideCode": false,
    "hidePrompt": false
   },
   "source": [
    "# Project Part F: Better Model\n",
    "\n",
    "![](banner_project.jpg)"
   ]
  },
  {
   "cell_type": "code",
   "execution_count": 1,
   "metadata": {},
   "outputs": [],
   "source": [
    "analyst = \"Citlalli Villarreal\" # Replace this with your name"
   ]
  },
  {
   "cell_type": "code",
   "execution_count": 2,
   "metadata": {
    "hide_input": false
   },
   "outputs": [
    {
     "data": {
      "text/html": [
       "<p style=\"text-align:center; font-size:10px;\">\n",
       ".................................................... start of document ....................................................\n",
       "</p>"
      ]
     },
     "metadata": {},
     "output_type": "display_data"
    }
   ],
   "source": [
    "f = \"setup.R\"; for (i in 1:10) { if (file.exists(f)) break else f = paste0(\"../\", f) }; source(f)\n",
    "options(repr.matrix.max.rows=674)\n",
    "options(repr.matrix.max.cols=200)\n",
    "update_geom_defaults(\"point\", list(size=1))                                "
   ]
  },
  {
   "cell_type": "markdown",
   "metadata": {},
   "source": [
    "## Directions"
   ]
  },
  {
   "cell_type": "markdown",
   "metadata": {},
   "source": [
    "### Objective\n",
    "\n",
    "Recommend a portfolio of 12 company investments that maximizes 12-month return of an overall \\$1,000,000 investment."
   ]
  },
  {
   "cell_type": "markdown",
   "metadata": {},
   "source": [
    "### Approach\n",
    "\n",
    "_<< Retrieve a transformed dataset about public company fundamentals and use it reproduce the construction of a selected model.\n",
    "\n",
    "Allocate the capital to each investment opportunity such that each investment opportunity has 25% of the total remaininng budget depending on their ranking (ranking is determined by the quantity of the investment opportunity growth).\n",
    "\n",
    "Retrieve an investment opportunities dataset, comprising fundamentals for some set of public companies over some one-year period.  Transform the representation of the investment opportunities to match the representation expected by the model, leveraging previous analysis.\n",
    "\n",
    "Use the mutiple aggregation of models to make predictions about the investment opportunities and accordingly recommend a portfolio of 12 company investments. >>_"
   ]
  },
  {
   "cell_type": "markdown",
   "metadata": {},
   "source": [
    "## Business Model\n",
    "\n",
    "_<< Below I initialized 3 business parameters (budget, portfolio size and allocation). Allocation represents the capital a company is allocated which is determined by the company's ranking (ranking is determined by the quantity of the investment opportunity growth). Each company is allocated 25% of the remaining budget.. >>_"
   ]
  },
  {
   "cell_type": "code",
   "execution_count": 3,
   "metadata": {},
   "outputs": [
    {
     "data": {
      "text/html": [
       "<table>\n",
       "<thead><tr><th scope=col>budget</th><th scope=col>portfolio_size</th></tr></thead>\n",
       "<tbody>\n",
       "\t<tr><td>1000000</td><td>12     </td></tr>\n",
       "</tbody>\n",
       "</table>\n"
      ],
      "text/latex": [
       "\\begin{tabular}{r|ll}\n",
       " budget & portfolio\\_size\\\\\n",
       "\\hline\n",
       "\t 1000000 & 12     \\\\\n",
       "\\end{tabular}\n"
      ],
      "text/markdown": [
       "\n",
       "| budget | portfolio_size |\n",
       "|---|---|\n",
       "| 1000000 | 12      |\n",
       "\n"
      ],
      "text/plain": [
       "  budget  portfolio_size\n",
       "1 1000000 12            "
      ]
     },
     "metadata": {},
     "output_type": "display_data"
    }
   ],
   "source": [
    "# Set the business parameters.\n",
    "\n",
    "budget = 1000000\n",
    "portfolio_size = 12\n",
    "\n",
    "data.frame(budget, portfolio_size)"
   ]
  },
  {
   "cell_type": "code",
   "execution_count": 4,
   "metadata": {},
   "outputs": [
    {
     "data": {
      "text/html": [
       "<table>\n",
       " <thead>\n",
       "  <tr>\n",
       "   <th style=\"text-align:right;background-color: #FFFFFF !important;\"> allocation </th>\n",
       "  </tr>\n",
       " </thead>\n",
       "<tbody>\n",
       "  <tr>\n",
       "   <td style=\"text-align:right;\"> 250000.00 </td>\n",
       "  </tr>\n",
       "  <tr>\n",
       "   <td style=\"text-align:right;\"> 187500.00 </td>\n",
       "  </tr>\n",
       "  <tr>\n",
       "   <td style=\"text-align:right;\"> 140625.00 </td>\n",
       "  </tr>\n",
       "  <tr>\n",
       "   <td style=\"text-align:right;\"> 105468.75 </td>\n",
       "  </tr>\n",
       "  <tr>\n",
       "   <td style=\"text-align:right;\"> 79101.56 </td>\n",
       "  </tr>\n",
       "  <tr>\n",
       "   <td style=\"text-align:right;\"> 59326.17 </td>\n",
       "  </tr>\n",
       "  <tr>\n",
       "   <td style=\"text-align:right;\"> 44494.63 </td>\n",
       "  </tr>\n",
       "  <tr>\n",
       "   <td style=\"text-align:right;\"> 33370.97 </td>\n",
       "  </tr>\n",
       "  <tr>\n",
       "   <td style=\"text-align:right;\"> 25028.23 </td>\n",
       "  </tr>\n",
       "  <tr>\n",
       "   <td style=\"text-align:right;\"> 18771.17 </td>\n",
       "  </tr>\n",
       "  <tr>\n",
       "   <td style=\"text-align:right;\"> 14078.38 </td>\n",
       "  </tr>\n",
       "  <tr>\n",
       "   <td style=\"text-align:right;\"> 42235.14 </td>\n",
       "  </tr>\n",
       "</tbody>\n",
       "</table>"
      ]
     },
     "metadata": {},
     "output_type": "display_data"
    }
   ],
   "source": [
    "# Set any additional business parameters.\n",
    "#allocation = rep(budget/portfolio_size, portfolio_size)\n",
    "new_budget = budget\n",
    "allocation = c()\n",
    "for (i in c(1:12)) {\n",
    "    if (i < 12) {\n",
    "    allocate = new_budget*0.25\n",
    "    allocation = c(allocation, allocate)\n",
    "    new_budget = new_budget - allocate\n",
    "    } else {\n",
    "    allocation = c(allocation, new_budget)  \n",
    "    new_budget = new_budget - new_budget\n",
    "    }\n",
    "}\n",
    "fmt(allocation)"
   ]
  },
  {
   "cell_type": "markdown",
   "metadata": {},
   "source": [
    "## Build Model\n",
    "\n",
    "_<< A neural network and linear regression model is constructed to predict the growth provided a PC1, PC2, and PC. The two models are used simultaneously in order to provided the best portfolio compromised of the top 12 growth companies. >>_"
   ]
  },
  {
   "cell_type": "code",
   "execution_count": 5,
   "metadata": {},
   "outputs": [],
   "source": [
    "# Retrieve \"My Data.csv\"\n",
    "#   ... OR ...\n",
    "# Retrieve \"Company Fundamentals 2017.csv\"\n",
    "\n",
    "# This is the ORIGINAL data.\n",
    "\n",
    "# Retrieve \"My Data.csv\".  This is the ORIGINAL model training data.\n",
    "data = read.csv(\"My Data.csv\", header=TRUE)"
   ]
  },
  {
   "cell_type": "code",
   "execution_count": 6,
   "metadata": {},
   "outputs": [
    {
     "data": {
      "text/html": [
       "<table>\n",
       "<thead><tr><th scope=col>gvkey</th><th scope=col>tic</th><th scope=col>conm</th><th scope=col>PC1</th><th scope=col>PC2</th><th scope=col>PC3</th><th scope=col>prccq</th><th scope=col>growth</th><th scope=col>big_growth</th></tr></thead>\n",
       "<tbody>\n",
       "\t<tr><td>1004                        </td><td>AIR                         </td><td>AAR CORP                    </td><td> 1.4097638                  </td><td> 0.2124544                  </td><td>-0.18735809                 </td><td>43.69                       </td><td> 0.0507455507               </td><td>NO                          </td></tr>\n",
       "\t<tr><td>1045                        </td><td>AAL                         </td><td>AMERICAN AIRLINES GROUP INC </td><td>-2.8093139                  </td><td> 0.2246363                  </td><td> 1.43661206                 </td><td>32.11                       </td><td>-0.3828560446               </td><td>NO                          </td></tr>\n",
       "\t<tr><td>1050                        </td><td>CECE                        </td><td>CECO ENVIRONMENTAL CORP     </td><td> 1.5247216                  </td><td> 0.4396434                  </td><td>-0.16785608                 </td><td> 6.75                       </td><td> 0.3157894737               </td><td>YES                         </td></tr>\n",
       "\t<tr><td>1062                        </td><td>ASA                         </td><td>ASA GOLD AND PRECIOUS METALS</td><td> 1.5736687                  </td><td> 0.6384403                  </td><td> 0.01227541                 </td><td> 8.66                       </td><td>-0.2164739518               </td><td>NO                          </td></tr>\n",
       "\t<tr><td>1072                        </td><td>AVX                         </td><td>AVX CORP                    </td><td> 1.2812646                  </td><td> 0.4529129                  </td><td> 0.09293832                 </td><td>15.25                       </td><td>-0.1184971098               </td><td>NO                          </td></tr>\n",
       "\t<tr><td>1075                        </td><td>PNW                         </td><td>PINNACLE WEST CAPITAL CORP  </td><td> 0.3697622                  </td><td>-0.4860613                  </td><td>-0.01283639                 </td><td>85.20                       </td><td> 0.0002347969               </td><td>NO                          </td></tr>\n",
       "</tbody>\n",
       "</table>\n"
      ],
      "text/latex": [
       "\\begin{tabular}{r|lllllllll}\n",
       " gvkey & tic & conm & PC1 & PC2 & PC3 & prccq & growth & big\\_growth\\\\\n",
       "\\hline\n",
       "\t 1004                         & AIR                          & AAR CORP                     &  1.4097638                   &  0.2124544                   & -0.18735809                  & 43.69                        &  0.0507455507                & NO                          \\\\\n",
       "\t 1045                         & AAL                          & AMERICAN AIRLINES GROUP INC  & -2.8093139                   &  0.2246363                   &  1.43661206                  & 32.11                        & -0.3828560446                & NO                          \\\\\n",
       "\t 1050                         & CECE                         & CECO ENVIRONMENTAL CORP      &  1.5247216                   &  0.4396434                   & -0.16785608                  &  6.75                        &  0.3157894737                & YES                         \\\\\n",
       "\t 1062                         & ASA                          & ASA GOLD AND PRECIOUS METALS &  1.5736687                   &  0.6384403                   &  0.01227541                  &  8.66                        & -0.2164739518                & NO                          \\\\\n",
       "\t 1072                         & AVX                          & AVX CORP                     &  1.2812646                   &  0.4529129                   &  0.09293832                  & 15.25                        & -0.1184971098                & NO                          \\\\\n",
       "\t 1075                         & PNW                          & PINNACLE WEST CAPITAL CORP   &  0.3697622                   & -0.4860613                   & -0.01283639                  & 85.20                        &  0.0002347969                & NO                          \\\\\n",
       "\\end{tabular}\n"
      ],
      "text/markdown": [
       "\n",
       "| gvkey | tic | conm | PC1 | PC2 | PC3 | prccq | growth | big_growth |\n",
       "|---|---|---|---|---|---|---|---|---|\n",
       "| 1004                         | AIR                          | AAR CORP                     |  1.4097638                   |  0.2124544                   | -0.18735809                  | 43.69                        |  0.0507455507                | NO                           |\n",
       "| 1045                         | AAL                          | AMERICAN AIRLINES GROUP INC  | -2.8093139                   |  0.2246363                   |  1.43661206                  | 32.11                        | -0.3828560446                | NO                           |\n",
       "| 1050                         | CECE                         | CECO ENVIRONMENTAL CORP      |  1.5247216                   |  0.4396434                   | -0.16785608                  |  6.75                        |  0.3157894737                | YES                          |\n",
       "| 1062                         | ASA                          | ASA GOLD AND PRECIOUS METALS |  1.5736687                   |  0.6384403                   |  0.01227541                  |  8.66                        | -0.2164739518                | NO                           |\n",
       "| 1072                         | AVX                          | AVX CORP                     |  1.2812646                   |  0.4529129                   |  0.09293832                  | 15.25                        | -0.1184971098                | NO                           |\n",
       "| 1075                         | PNW                          | PINNACLE WEST CAPITAL CORP   |  0.3697622                   | -0.4860613                   | -0.01283639                  | 85.20                        |  0.0002347969                | NO                           |\n",
       "\n"
      ],
      "text/plain": [
       "  gvkey tic  conm                         PC1        PC2        PC3        \n",
       "1 1004  AIR  AAR CORP                      1.4097638  0.2124544 -0.18735809\n",
       "2 1045  AAL  AMERICAN AIRLINES GROUP INC  -2.8093139  0.2246363  1.43661206\n",
       "3 1050  CECE CECO ENVIRONMENTAL CORP       1.5247216  0.4396434 -0.16785608\n",
       "4 1062  ASA  ASA GOLD AND PRECIOUS METALS  1.5736687  0.6384403  0.01227541\n",
       "5 1072  AVX  AVX CORP                      1.2812646  0.4529129  0.09293832\n",
       "6 1075  PNW  PINNACLE WEST CAPITAL CORP    0.3697622 -0.4860613 -0.01283639\n",
       "  prccq growth        big_growth\n",
       "1 43.69  0.0507455507 NO        \n",
       "2 32.11 -0.3828560446 NO        \n",
       "3  6.75  0.3157894737 YES       \n",
       "4  8.66 -0.2164739518 NO        \n",
       "5 15.25 -0.1184971098 NO        \n",
       "6 85.20  0.0002347969 NO        "
      ]
     },
     "metadata": {},
     "output_type": "display_data"
    }
   ],
   "source": [
    "# Transform representation of data, if necessary\n",
    "data$big_growth = factor(data$big_growth, levels=c(\"YES\",\"NO\"))\n",
    "\n",
    "# Present a few rows ...\n",
    "data[1:6,]"
   ]
  },
  {
   "cell_type": "code",
   "execution_count": 7,
   "metadata": {},
   "outputs": [],
   "source": [
    "# Construct a model to predict big_growth or growth.\n",
    "# Present a brief summary of the model parameters.\n",
    "\n",
    "set.seed(12345)\n",
    "\n",
    "data$class.bin = as.binary(data$big_growth, \"YES\")\n",
    "model.nn = neuralnet(class.bin ~ PC1+PC2 +PC3, data, hidden=c(3,2), algorithm=\"rprop+\", act.fct=\"logistic\", linear.output=FALSE, rep=1)\n",
    "\n",
    "model.lm = lm(formula=growth ~ PC1 + PC2, data=data)"
   ]
  },
  {
   "cell_type": "markdown",
   "metadata": {},
   "source": [
    "## Evaluate Model (5-fold cross-validation)\n",
    "\n",
    "_<< Below the data is partition using the 5-fold cross validation and then for each fold the RMSE and profit is calculated. Lastly, the cross-validation RMSE and profit is calculated by taking the average of all RMSE and profit for each individual fold respectively. >>_"
   ]
  },
  {
   "cell_type": "code",
   "execution_count": 8,
   "metadata": {},
   "outputs": [
    {
     "name": "stdout",
     "output_type": "stream",
     "text": [
      "List of 5\n",
      " $ Fold1: int [1:862] 8 11 16 22 30 32 38 40 41 44 ...\n",
      " $ Fold2: int [1:860] 3 9 10 23 26 27 34 39 52 64 ...\n",
      " $ Fold3: int [1:862] 2 7 19 29 35 42 53 57 61 62 ...\n",
      " $ Fold4: int [1:861] 1 4 5 6 15 17 28 33 36 43 ...\n",
      " $ Fold5: int [1:860] 12 13 14 18 20 21 24 25 31 37 ...\n"
     ]
    },
    {
     "data": {
      "text/html": [
       "<table>\n",
       "<thead><tr><th scope=col>fold</th><th scope=col>rmse</th><th scope=col>profit</th></tr></thead>\n",
       "<tbody>\n",
       "\t<tr><td>1         </td><td>0.4445404 </td><td> -36823.83</td></tr>\n",
       "\t<tr><td>2         </td><td>0.4355719 </td><td>-129386.25</td></tr>\n",
       "\t<tr><td>3         </td><td>0.5040684 </td><td> -78544.34</td></tr>\n",
       "\t<tr><td>4         </td><td>0.3992330 </td><td> -46341.18</td></tr>\n",
       "\t<tr><td>5         </td><td>0.5459912 </td><td>  68050.63</td></tr>\n",
       "</tbody>\n",
       "</table>\n"
      ],
      "text/latex": [
       "\\begin{tabular}{r|lll}\n",
       " fold & rmse & profit\\\\\n",
       "\\hline\n",
       "\t 1          & 0.4445404  &  -36823.83\\\\\n",
       "\t 2          & 0.4355719  & -129386.25\\\\\n",
       "\t 3          & 0.5040684  &  -78544.34\\\\\n",
       "\t 4          & 0.3992330  &  -46341.18\\\\\n",
       "\t 5          & 0.5459912  &   68050.63\\\\\n",
       "\\end{tabular}\n"
      ],
      "text/markdown": [
       "\n",
       "| fold | rmse | profit |\n",
       "|---|---|---|\n",
       "| 1          | 0.4445404  |  -36823.83 |\n",
       "| 2          | 0.4355719  | -129386.25 |\n",
       "| 3          | 0.5040684  |  -78544.34 |\n",
       "| 4          | 0.3992330  |  -46341.18 |\n",
       "| 5          | 0.5459912  |   68050.63 |\n",
       "\n"
      ],
      "text/plain": [
       "  fold rmse      profit    \n",
       "1 1    0.4445404  -36823.83\n",
       "2 2    0.4355719 -129386.25\n",
       "3 3    0.5040684  -78544.34\n",
       "4 4    0.3992330  -46341.18\n",
       "5 5    0.5459912   68050.63"
      ]
     },
     "metadata": {},
     "output_type": "display_data"
    }
   ],
   "source": [
    "# Calculate and present the model's estimated profit and profit rate.\n",
    "set.seed(0)\n",
    "fold = createFolds(data$growth, k=5, list=TRUE)\n",
    "str(fold)\n",
    "\n",
    "RMSE <- function(actual, predicted) { sqrt(mean((actual - predicted)^2)) }\n",
    "profit <- function(dataset) {sum((1+dataset$growth) * allocation) - budget}\n",
    "\n",
    "rmse_profit <- function(train, test) {\n",
    "    \n",
    "    model.nn = neuralnet(class.bin ~ PC1+PC2 +PC3, train, hidden=c(3,2), algorithm=\"rprop+\", act.fct=\"logistic\", linear.output=FALSE, rep=1)\n",
    "    model.lm = lm(formula=growth ~ PC1 + PC2, data=train)    \n",
    "    outcome.predicted.nn=predict(model.nn, test)\n",
    "    outcome.predicted.lm=predict(model.lm, test)\n",
    "    new.test = cbind(outcome.predicted.nn, test)\n",
    "    new.test = cbind(outcome.predicted.lm, new.test)\n",
    "    new.test= new.test[order(-new.test$outcome.predicted.lm),]\n",
    "    rmse = RMSE(test$growth, outcome.predicted.lm)\n",
    "    prof = profit(new.test[1:12,])\n",
    "    return (c(rmse, prof))\n",
    "}\n",
    "\n",
    "data.train.1 = data[setdiff(1:nrow(data), fold$Fold1),]\n",
    "data.train.2 = data[setdiff(1:nrow(data), fold$Fold2),]\n",
    "data.train.3 = data[setdiff(1:nrow(data), fold$Fold3),]\n",
    "data.train.4 = data[setdiff(1:nrow(data), fold$Fold4),]\n",
    "data.train.5 = data[setdiff(1:nrow(data), fold$Fold5),]\n",
    "\n",
    "data.test.1 = data[fold$Fold1,]\n",
    "data.test.2 = data[fold$Fold2,]\n",
    "data.test.3 = data[fold$Fold3,]\n",
    "data.test.4 = data[fold$Fold4,]\n",
    "data.test.5 = data[fold$Fold5,]\n",
    "\n",
    "rmse_profit1 = rmse_profit(data.train.1, data.test.1)\n",
    "rmse_profit2 = rmse_profit(data.train.2, data.test.2)\n",
    "rmse_profit3 = rmse_profit(data.train.3, data.test.3)\n",
    "rmse_profit4 = rmse_profit(data.train.4, data.test.4)\n",
    "rmse_profit5 = rmse_profit(data.train.5, data.test.5)\n",
    "\n",
    "\n",
    "data.frame(fold=c(1, 2, 3, 4, 5), rmse=c(rmse_profit1[1], rmse_profit2[1], rmse_profit3[1], rmse_profit4[1], rmse_profit5[1]), \n",
    "           profit=c(rmse_profit1[2], rmse_profit2[2], rmse_profit3[2], rmse_profit4[2], rmse_profit5[2]))\n",
    "\n"
   ]
  },
  {
   "cell_type": "code",
   "execution_count": 9,
   "metadata": {},
   "outputs": [
    {
     "data": {
      "text/html": [
       "<table>\n",
       "<caption><center><font color=\"black\"><b>5-Fold Cross-Validation Estimated Performance</b></font></center></caption>\n",
       " <thead>\n",
       "  <tr>\n",
       "   <th style=\"text-align:right;background-color: #FFFFFF !important;\"> rmse.cv </th>\n",
       "   <th style=\"text-align:right;background-color: #FFFFFF !important;\"> profit.cv </th>\n",
       "   <th style=\"text-align:right;background-color: #FFFFFF !important;\"> profit_rate.cv </th>\n",
       "  </tr>\n",
       " </thead>\n",
       "<tbody>\n",
       "  <tr>\n",
       "   <td style=\"text-align:right;\"> 0.465881 </td>\n",
       "   <td style=\"text-align:right;\"> -44608.99 </td>\n",
       "   <td style=\"text-align:right;\"> -0.044609 </td>\n",
       "  </tr>\n",
       "</tbody>\n",
       "</table>"
      ]
     },
     "metadata": {},
     "output_type": "display_data"
    }
   ],
   "source": [
    "# Present the model's 5-fold cross-validation estimated RMSE, profit, and profit rate.\n",
    "rmse.cv = sum(rmse_profit1[1], rmse_profit2[1], rmse_profit3[1], rmse_profit4[1], rmse_profit5[1])/5\n",
    "profit.cv =  sum(rmse_profit1[2], rmse_profit2[2], rmse_profit3[2], rmse_profit4[2], rmse_profit5[2])/5\n",
    "profit_rate.cv = sum(c(rmse_profit1[2], rmse_profit2[2], rmse_profit3[2], rmse_profit4[2], rmse_profit5[2])/budget)/5\n",
    "fmt(data.frame(rmse.cv, profit.cv, profit_rate.cv), \"5-Fold Cross-Validation Estimated Performance\")"
   ]
  },
  {
   "cell_type": "markdown",
   "metadata": {},
   "source": [
    "## Investment Opportunities\n",
    "\n",
    "_<< Below the data is retrieve from the CSV file called \"Investment Opportunities.csv\". Once the data is retrieved, I partition the data by the calendar quarter. Then the different datasets representing different quarters are joined into one dataset. This new dataset is filtered and manipulated through the use of various data objects (e.g. RDS). The final resulting dataset, \"data.filter\", is used to train the model.. >>_"
   ]
  },
  {
   "cell_type": "markdown",
   "metadata": {},
   "source": [
    "### Retrieve Data"
   ]
  },
  {
   "cell_type": "code",
   "execution_count": 10,
   "metadata": {},
   "outputs": [
    {
     "data": {
      "text/html": [
       "<table>\n",
       "<thead><tr><th scope=col>observations</th><th scope=col>variables</th></tr></thead>\n",
       "<tbody>\n",
       "\t<tr><td>918</td><td>680</td></tr>\n",
       "</tbody>\n",
       "</table>\n"
      ],
      "text/latex": [
       "\\begin{tabular}{r|ll}\n",
       " observations & variables\\\\\n",
       "\\hline\n",
       "\t 918 & 680\\\\\n",
       "\\end{tabular}\n"
      ],
      "text/markdown": [
       "\n",
       "| observations | variables |\n",
       "|---|---|\n",
       "| 918 | 680 |\n",
       "\n"
      ],
      "text/plain": [
       "  observations variables\n",
       "1 918          680      "
      ]
     },
     "metadata": {},
     "output_type": "display_data"
    }
   ],
   "source": [
    "# Retrieve \"Investment Opportunities.csv\"\n",
    "# Present the dataset size ...\n",
    "\n",
    "datax = read.csv(\"Investment Opportunities.csv\", header=TRUE)\n",
    "size(datax)"
   ]
  },
  {
   "cell_type": "markdown",
   "metadata": {},
   "source": [
    "### Transform Representation of Data "
   ]
  },
  {
   "cell_type": "code",
   "execution_count": 11,
   "metadata": {},
   "outputs": [
    {
     "data": {
      "text/html": [
       "<table>\n",
       "<thead><tr><th scope=col>gvkey</th><th scope=col>tic</th><th scope=col>conm</th><th scope=col>PC1</th><th scope=col>PC2</th><th scope=col>PC3</th></tr></thead>\n",
       "<tbody>\n",
       "\t<tr><td>1004                    </td><td>AIR                     </td><td>AAR CORP                </td><td> 1.4195870              </td><td> 0.05796411             </td><td>-0.2576737              </td></tr>\n",
       "\t<tr><td>1410                    </td><td>ABM                     </td><td>ABM INDUSTRIES INC      </td><td> 1.0563147              </td><td> 0.07293782             </td><td>-0.1602470              </td></tr>\n",
       "\t<tr><td>1562                    </td><td>AMSWA                   </td><td>AMERICAN SOFTWARE  -CL A</td><td> 1.6304006              </td><td> 0.32243636             </td><td>-0.1278981              </td></tr>\n",
       "\t<tr><td>1618                    </td><td>AXR                     </td><td>AMREP CORP              </td><td> 0.8877064              </td><td> 0.14517578             </td><td>-0.6410072              </td></tr>\n",
       "\t<tr><td>1632                    </td><td>ADI                     </td><td>ANALOG DEVICES          </td><td>-1.6234366              </td><td>-0.48540835             </td><td>-0.9770837              </td></tr>\n",
       "\t<tr><td>1686                    </td><td>APOG                    </td><td>APOGEE ENTERPRISES INC  </td><td> 1.4219415              </td><td>-0.15294429             </td><td>-0.3697524              </td></tr>\n",
       "</tbody>\n",
       "</table>\n"
      ],
      "text/latex": [
       "\\begin{tabular}{r|llllll}\n",
       " gvkey & tic & conm & PC1 & PC2 & PC3\\\\\n",
       "\\hline\n",
       "\t 1004                     & AIR                      & AAR CORP                 &  1.4195870               &  0.05796411              & -0.2576737              \\\\\n",
       "\t 1410                     & ABM                      & ABM INDUSTRIES INC       &  1.0563147               &  0.07293782              & -0.1602470              \\\\\n",
       "\t 1562                     & AMSWA                    & AMERICAN SOFTWARE  -CL A &  1.6304006               &  0.32243636              & -0.1278981              \\\\\n",
       "\t 1618                     & AXR                      & AMREP CORP               &  0.8877064               &  0.14517578              & -0.6410072              \\\\\n",
       "\t 1632                     & ADI                      & ANALOG DEVICES           & -1.6234366               & -0.48540835              & -0.9770837              \\\\\n",
       "\t 1686                     & APOG                     & APOGEE ENTERPRISES INC   &  1.4219415               & -0.15294429              & -0.3697524              \\\\\n",
       "\\end{tabular}\n"
      ],
      "text/markdown": [
       "\n",
       "| gvkey | tic | conm | PC1 | PC2 | PC3 |\n",
       "|---|---|---|---|---|---|\n",
       "| 1004                     | AIR                      | AAR CORP                 |  1.4195870               |  0.05796411              | -0.2576737               |\n",
       "| 1410                     | ABM                      | ABM INDUSTRIES INC       |  1.0563147               |  0.07293782              | -0.1602470               |\n",
       "| 1562                     | AMSWA                    | AMERICAN SOFTWARE  -CL A |  1.6304006               |  0.32243636              | -0.1278981               |\n",
       "| 1618                     | AXR                      | AMREP CORP               |  0.8877064               |  0.14517578              | -0.6410072               |\n",
       "| 1632                     | ADI                      | ANALOG DEVICES           | -1.6234366               | -0.48540835              | -0.9770837               |\n",
       "| 1686                     | APOG                     | APOGEE ENTERPRISES INC   |  1.4219415               | -0.15294429              | -0.3697524               |\n",
       "\n"
      ],
      "text/plain": [
       "  gvkey tic   conm                     PC1        PC2         PC3       \n",
       "1 1004  AIR   AAR CORP                  1.4195870  0.05796411 -0.2576737\n",
       "2 1410  ABM   ABM INDUSTRIES INC        1.0563147  0.07293782 -0.1602470\n",
       "3 1562  AMSWA AMERICAN SOFTWARE  -CL A  1.6304006  0.32243636 -0.1278981\n",
       "4 1618  AXR   AMREP CORP                0.8877064  0.14517578 -0.6410072\n",
       "5 1632  ADI   ANALOG DEVICES           -1.6234366 -0.48540835 -0.9770837\n",
       "6 1686  APOG  APOGEE ENTERPRISES INC    1.4219415 -0.15294429 -0.3697524"
      ]
     },
     "metadata": {},
     "output_type": "display_data"
    }
   ],
   "source": [
    "# Transform representation of the investment opportunity data as required to match the\n",
    "# representation of the orginal ORIGINAL data.\n",
    "datax$quarter = quarter(mdy(datax[,2]))\n",
    "\n",
    "data.current.q1 = datax[(datax$quarter==1) & !is.na(datax$prccq), -ncol(datax)]\n",
    "data.current.q2 = datax[(datax$quarter==2) & !is.na(datax$prccq), -ncol(datax)]\n",
    "data.current.q3 = datax[(datax$quarter==3) & !is.na(datax$prccq), -ncol(datax)]\n",
    "data.current.q4 = datax[(datax$quarter==4) & !is.na(datax$prccq), -ncol(datax)]\n",
    "\n",
    "data.current.q1 = data.current.q1[!duplicated(data.current.q1$gvkey),]\n",
    "data.current.q2 = data.current.q2[!duplicated(data.current.q2$gvkey),]\n",
    "data.current.q3 = data.current.q3[!duplicated(data.current.q3$gvkey),]\n",
    "data.current.q4 = data.current.q4[!duplicated(data.current.q4$gvkey),]\n",
    "\n",
    "colnames(data.current.q1)[-c(1, 10, 12)] = paste0(colnames(data.current.q1)[-c(1, 10, 12)], \".q1\")\n",
    "colnames(data.current.q2)[-c(1, 10, 12)] = paste0(colnames(data.current.q2)[-c(1, 10, 12)], \".q2\")\n",
    "colnames(data.current.q3)[-c(1, 10, 12)] = paste0(colnames(data.current.q3)[-c(1, 10, 12)], \".q3\")\n",
    "colnames(data.current.q4)[-c(1, 10, 12)] = paste0(colnames(data.current.q4)[-c(1, 10, 12)], \".q4\")\n",
    "\n",
    "m12 = merge(data.current.q1, data.current.q2, by=c(\"gvkey\", \"tic\", \"conm\"), all=TRUE)\n",
    "m34 = merge(data.current.q3, data.current.q4, by=c(\"gvkey\", \"tic\", \"conm\"), all=TRUE)\n",
    "data.current = merge(m12, m34, by=c(\"gvkey\", \"tic\", \"conm\"), all=TRUE, sort=TRUE)\n",
    "\n",
    "data.current = data.current[!is.na(data.current$prccq.q4),]\n",
    "\n",
    "cn = readRDS(\"My Filter.rds\")\n",
    "data.current.filter=data.current[,cn]\n",
    "ml = readRDS(\"My Imputation.rds\")\n",
    "data.current.imputed=put_impute(data.current.filter, ml)\n",
    "pc = readRDS(\"My PC.rds\")\n",
    "data.pc = predict(pc, data.current.imputed)\n",
    "prevars = readRDS(\"My Predictors.rds\")\n",
    "data.filter = cbind(data.current.imputed, data.pc)\n",
    "data.filter = data.filter[,prevars]\n",
    "data.filter[1:6,]\n"
   ]
  },
  {
   "cell_type": "markdown",
   "metadata": {},
   "source": [
    "## Apply Model\n",
    "\n",
    "_<< The neural network and linear regression models previously constructed above are used to predict the growths of each investment opportunity. Then a portfolio of 12 investment opportunities is presented (Note that the investment opportunities presented are in the portfolio have the highest overall predicted growth among the other investment opportunities). . >>_"
   ]
  },
  {
   "cell_type": "markdown",
   "metadata": {},
   "source": [
    "### Predict & Make Portfolio Recommendation"
   ]
  },
  {
   "cell_type": "code",
   "execution_count": 12,
   "metadata": {},
   "outputs": [
    {
     "data": {
      "text/html": [
       "<table>\n",
       "<caption><center><font color=\"black\"><b>portfolio</b></font></center></caption>\n",
       " <thead>\n",
       "  <tr>\n",
       "   <th style=\"text-align:right;background-color: #FFFFFF !important;\"> gvkey </th>\n",
       "   <th style=\"text-align:right;background-color: #FFFFFF !important;\"> tic </th>\n",
       "   <th style=\"text-align:right;background-color: #FFFFFF !important;\"> conm </th>\n",
       "   <th style=\"text-align:right;background-color: #FFFFFF !important;\"> allocation </th>\n",
       "  </tr>\n",
       " </thead>\n",
       "<tbody>\n",
       "  <tr>\n",
       "   <td style=\"text-align:right;\"> 23809 </td>\n",
       "   <td style=\"text-align:right;\"> AZO </td>\n",
       "   <td style=\"text-align:right;\"> AUTOZONE INC </td>\n",
       "   <td style=\"text-align:right;\"> 250000.00 </td>\n",
       "  </tr>\n",
       "  <tr>\n",
       "   <td style=\"text-align:right;\"> 29692 </td>\n",
       "   <td style=\"text-align:right;\"> WEBC </td>\n",
       "   <td style=\"text-align:right;\"> WEBCO INDUSTRIES INC </td>\n",
       "   <td style=\"text-align:right;\"> 187500.00 </td>\n",
       "  </tr>\n",
       "  <tr>\n",
       "   <td style=\"text-align:right;\"> 3570 </td>\n",
       "   <td style=\"text-align:right;\"> CBRL </td>\n",
       "   <td style=\"text-align:right;\"> CRACKER BARREL OLD CTRY STOR </td>\n",
       "   <td style=\"text-align:right;\"> 140625.00 </td>\n",
       "  </tr>\n",
       "  <tr>\n",
       "   <td style=\"text-align:right;\"> 178704 </td>\n",
       "   <td style=\"text-align:right;\"> ULTA </td>\n",
       "   <td style=\"text-align:right;\"> ULTA BEAUTY INC </td>\n",
       "   <td style=\"text-align:right;\"> 105468.75 </td>\n",
       "  </tr>\n",
       "  <tr>\n",
       "   <td style=\"text-align:right;\"> 63172 </td>\n",
       "   <td style=\"text-align:right;\"> FDS </td>\n",
       "   <td style=\"text-align:right;\"> FACTSET RESEARCH SYSTEMS INC </td>\n",
       "   <td style=\"text-align:right;\"> 79101.56 </td>\n",
       "  </tr>\n",
       "  <tr>\n",
       "   <td style=\"text-align:right;\"> 65430 </td>\n",
       "   <td style=\"text-align:right;\"> PLCE </td>\n",
       "   <td style=\"text-align:right;\"> CHILDRENS PLACE INC </td>\n",
       "   <td style=\"text-align:right;\"> 59326.17 </td>\n",
       "  </tr>\n",
       "  <tr>\n",
       "   <td style=\"text-align:right;\"> 3504 </td>\n",
       "   <td style=\"text-align:right;\"> COO </td>\n",
       "   <td style=\"text-align:right;\"> COOPER COS INC (THE) </td>\n",
       "   <td style=\"text-align:right;\"> 44494.63 </td>\n",
       "  </tr>\n",
       "  <tr>\n",
       "   <td style=\"text-align:right;\"> 125276 </td>\n",
       "   <td style=\"text-align:right;\"> CRSS </td>\n",
       "   <td style=\"text-align:right;\"> CROSSROADS SYSTEMS INC </td>\n",
       "   <td style=\"text-align:right;\"> 33370.97 </td>\n",
       "  </tr>\n",
       "  <tr>\n",
       "   <td style=\"text-align:right;\"> 1864 </td>\n",
       "   <td style=\"text-align:right;\"> REX </td>\n",
       "   <td style=\"text-align:right;\"> REX AMERICAN RESOURCES CORP </td>\n",
       "   <td style=\"text-align:right;\"> 25028.23 </td>\n",
       "  </tr>\n",
       "  <tr>\n",
       "   <td style=\"text-align:right;\"> 7921 </td>\n",
       "   <td style=\"text-align:right;\"> NDSN </td>\n",
       "   <td style=\"text-align:right;\"> NORDSON CORP </td>\n",
       "   <td style=\"text-align:right;\"> 18771.17 </td>\n",
       "  </tr>\n",
       "  <tr>\n",
       "   <td style=\"text-align:right;\"> 64344 </td>\n",
       "   <td style=\"text-align:right;\"> MTN </td>\n",
       "   <td style=\"text-align:right;\"> VAIL RESORTS INC </td>\n",
       "   <td style=\"text-align:right;\"> 14078.38 </td>\n",
       "  </tr>\n",
       "  <tr>\n",
       "   <td style=\"text-align:right;\"> 2807 </td>\n",
       "   <td style=\"text-align:right;\"> CASY </td>\n",
       "   <td style=\"text-align:right;\"> CASEYS GENERAL STORES INC </td>\n",
       "   <td style=\"text-align:right;\"> 42235.14 </td>\n",
       "  </tr>\n",
       "</tbody>\n",
       "</table>"
      ]
     },
     "metadata": {},
     "output_type": "display_data"
    }
   ],
   "source": [
    "# Use the model to predict growths of each investment opportunity.\n",
    "# Recommend a portfolio of allocations to 12 investment opportunities: gvkey, tic, conm, allocation\n",
    "\n",
    "outcome.predicted.nn = predict(model.nn, data.filter)\n",
    "outcome.predicted.lm=predict(model.lm, data.filter)\n",
    "new.data.filter = cbind(data.filter, outcome.predicted.nn)\n",
    "new.data.filter = cbind(new.data.filter, outcome.predicted.lm)\n",
    "new.data.filter = new.data.filter[order(-new.data.filter$outcome.predicted.lm),]\n",
    "new.data.filter = new.data.filter[1:12,c('gvkey', 'tic', 'conm')]\n",
    "portfolio = cbind(new.data.filter, allocation)\n",
    "fmt(portfolio, 'portfolio')\n",
    "    "
   ]
  },
  {
   "cell_type": "markdown",
   "metadata": {},
   "source": [
    "### Store Portfolio Recommendation"
   ]
  },
  {
   "cell_type": "code",
   "execution_count": 13,
   "metadata": {},
   "outputs": [],
   "source": [
    "# Store portfolio recommendation\n",
    "\n",
    "write.csv(portfolio, paste0(analyst, \".csv\"), row.names=FALSE)"
   ]
  },
  {
   "cell_type": "markdown",
   "metadata": {},
   "source": [
    "### Confirm That Format Is Correct"
   ]
  },
  {
   "cell_type": "code",
   "execution_count": 14,
   "metadata": {},
   "outputs": [
    {
     "data": {
      "text/html": [
       "<table>\n",
       "<caption><center><font color=\"black\"><b>Portfolio Recommendation | Format Check</b></font></center></caption>\n",
       " <thead>\n",
       "  <tr>\n",
       "   <th style=\"text-align:right;background-color: #FFFFFF !important;\"> analyst </th>\n",
       "   <th style=\"text-align:right;background-color: #FFFFFF !important;\"> columns </th>\n",
       "   <th style=\"text-align:right;background-color: #FFFFFF !important;\"> companies </th>\n",
       "   <th style=\"text-align:right;background-color: #FFFFFF !important;\"> allocations </th>\n",
       "  </tr>\n",
       " </thead>\n",
       "<tbody>\n",
       "  <tr>\n",
       "   <td style=\"text-align:right;\"> Citlalli Villarreal </td>\n",
       "   <td style=\"text-align:right;\"> TRUE </td>\n",
       "   <td style=\"text-align:right;\"> TRUE </td>\n",
       "   <td style=\"text-align:right;\"> TRUE </td>\n",
       "  </tr>\n",
       "</tbody>\n",
       "</table>"
      ]
     },
     "metadata": {},
     "output_type": "display_data"
    }
   ],
   "source": [
    "portfolio.retrieved = read.csv(paste0(analyst, \".csv\"), header=TRUE)\n",
    "opportunities = unique(read.csv(\"Investment Opportunities.csv\", header=TRUE)$gvkey)\n",
    "\n",
    "columns = all(colnames(portfolio.retrieved) == c(\"gvkey\", \"tic\", \"conm\", \"allocation\"))\n",
    "companies = all(portfolio.retrieved$gvkey %in% opportunities)\n",
    "allocations = round(sum(portfolio.retrieved$allocation)) == budget\n",
    "                         \n",
    "check = data.frame(analyst, columns, companies, allocations)\n",
    "fmt(check, \"Portfolio Recommendation | Format Check\")"
   ]
  },
  {
   "cell_type": "markdown",
   "metadata": {},
   "source": [
    "<font size=1;>\n",
    "<p style=\"text-align: left;\">\n",
    "Copyright (c) Berkeley Data Analytics Group, LLC\n",
    "<span style=\"float: right;\">\n",
    "Document revised January 22, 2021\n",
    "</span>\n",
    "</p>\n",
    "</font>"
   ]
  },
  {
   "cell_type": "code",
   "execution_count": null,
   "metadata": {},
   "outputs": [],
   "source": []
  }
 ],
 "metadata": {
  "hide_code_all_hidden": false,
  "hide_input": false,
  "kernelspec": {
   "display_name": "R",
   "language": "R",
   "name": "ir"
  },
  "language_info": {
   "codemirror_mode": "r",
   "file_extension": ".r",
   "mimetype": "text/x-r-source",
   "name": "R",
   "pygments_lexer": "r",
   "version": "3.6.3"
  },
  "toc": {
   "base_numbering": 1,
   "nav_menu": {},
   "number_sections": true,
   "sideBar": true,
   "skip_h1_title": true,
   "title_cell": "Table of Contents",
   "title_sidebar": "Contents",
   "toc_cell": false,
   "toc_position": {
    "height": "calc(100% - 180px)",
    "left": "10px",
    "top": "150px",
    "width": "165px"
   },
   "toc_section_display": true,
   "toc_window_display": true
  }
 },
 "nbformat": 4,
 "nbformat_minor": 2
}
